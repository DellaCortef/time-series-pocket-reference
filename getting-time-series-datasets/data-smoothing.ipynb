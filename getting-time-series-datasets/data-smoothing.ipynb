{
 "cells": [
  {
   "cell_type": "markdown",
   "id": "fe680e86",
   "metadata": {},
   "source": [
    "# Data Smoothing\n",
    "\n",
    "Although detecting *outliers* is a very broad topic, we can do the same using moving averages on **time series** data, eliminating *spikes*, measurement errors, or both. Even though the *spikes are accurate*, they \n",
    "may not reflect the underlying process and may be more a matter of instrumentation issues, so it is common to smooth the data.\n",
    "\n",
    "Data smoothing is closely related to missing data imputation. Thus, some of \n",
    "his techniques are also relevant to us. Smoothing can have many purposes:\n",
    "    - data preparation;\n",
    "    - feature generation;\n",
    "    - prediction;\n",
    "    - visualization;"
   ]
  },
  {
   "cell_type": "markdown",
   "id": "78c20c9e",
   "metadata": {},
   "source": [
    "### Exponential Smoothing\n",
    "\n",
    "Compared to the moving average, exponential smoothing is more sensitive to temporality, weighting recent points more than less recent points. Therefore, for a given window, the closest point in time has a denser weight and each previous point in time has an exponentially smaller weight."
   ]
  },
  {
   "cell_type": "markdown",
   "id": "acd38e6a",
   "metadata": {},
   "source": [
    "### Importing libs"
   ]
  },
  {
   "cell_type": "code",
   "execution_count": 1,
   "id": "fd6b8065",
   "metadata": {},
   "outputs": [],
   "source": [
    "import pandas as pd"
   ]
  },
  {
   "cell_type": "markdown",
   "id": "259db0e9",
   "metadata": {},
   "source": [
    "### Dataset Description\n",
    "The airline passenger dataset is a description of thousands of monthly passengers"
   ]
  },
  {
   "cell_type": "code",
   "execution_count": 2,
   "id": "e9ecc90d",
   "metadata": {},
   "outputs": [
    {
     "data": {
      "text/html": [
       "<div>\n",
       "<style scoped>\n",
       "    .dataframe tbody tr th:only-of-type {\n",
       "        vertical-align: middle;\n",
       "    }\n",
       "\n",
       "    .dataframe tbody tr th {\n",
       "        vertical-align: top;\n",
       "    }\n",
       "\n",
       "    .dataframe thead th {\n",
       "        text-align: right;\n",
       "    }\n",
       "</style>\n",
       "<table border=\"1\" class=\"dataframe\">\n",
       "  <thead>\n",
       "    <tr style=\"text-align: right;\">\n",
       "      <th></th>\n",
       "      <th>Date</th>\n",
       "      <th>Passengers</th>\n",
       "    </tr>\n",
       "  </thead>\n",
       "  <tbody>\n",
       "    <tr>\n",
       "      <th>0</th>\n",
       "      <td>1949-01-01</td>\n",
       "      <td>112</td>\n",
       "    </tr>\n",
       "    <tr>\n",
       "      <th>1</th>\n",
       "      <td>1949-02-01</td>\n",
       "      <td>118</td>\n",
       "    </tr>\n",
       "    <tr>\n",
       "      <th>2</th>\n",
       "      <td>1949-03-01</td>\n",
       "      <td>132</td>\n",
       "    </tr>\n",
       "    <tr>\n",
       "      <th>3</th>\n",
       "      <td>1949-04-01</td>\n",
       "      <td>129</td>\n",
       "    </tr>\n",
       "    <tr>\n",
       "      <th>4</th>\n",
       "      <td>1949-05-01</td>\n",
       "      <td>121</td>\n",
       "    </tr>\n",
       "    <tr>\n",
       "      <th>...</th>\n",
       "      <td>...</td>\n",
       "      <td>...</td>\n",
       "    </tr>\n",
       "    <tr>\n",
       "      <th>139</th>\n",
       "      <td>1960-08-01</td>\n",
       "      <td>606</td>\n",
       "    </tr>\n",
       "    <tr>\n",
       "      <th>140</th>\n",
       "      <td>1960-09-01</td>\n",
       "      <td>508</td>\n",
       "    </tr>\n",
       "    <tr>\n",
       "      <th>141</th>\n",
       "      <td>1960-10-01</td>\n",
       "      <td>461</td>\n",
       "    </tr>\n",
       "    <tr>\n",
       "      <th>142</th>\n",
       "      <td>1960-11-01</td>\n",
       "      <td>390</td>\n",
       "    </tr>\n",
       "    <tr>\n",
       "      <th>143</th>\n",
       "      <td>1960-12-01</td>\n",
       "      <td>432</td>\n",
       "    </tr>\n",
       "  </tbody>\n",
       "</table>\n",
       "<p>144 rows × 2 columns</p>\n",
       "</div>"
      ],
      "text/plain": [
       "          Date  Passengers\n",
       "0   1949-01-01         112\n",
       "1   1949-02-01         118\n",
       "2   1949-03-01         132\n",
       "3   1949-04-01         129\n",
       "4   1949-05-01         121\n",
       "..         ...         ...\n",
       "139 1960-08-01         606\n",
       "140 1960-09-01         508\n",
       "141 1960-10-01         461\n",
       "142 1960-11-01         390\n",
       "143 1960-12-01         432\n",
       "\n",
       "[144 rows x 2 columns]"
      ]
     },
     "execution_count": 2,
     "metadata": {},
     "output_type": "execute_result"
    }
   ],
   "source": [
    "# reading the csv of AirPassengers\n",
    "air = pd.read_csv(\"/Users/dellacorte/py-projects/data-science/time-series-pocket-reference/getting-time-series-datasets/datasets/AirPassengers.csv\", parse_dates = True, header = None)\n",
    "air.columns = ['Date', 'Passengers']\n",
    "\n",
    "# converting object to datetime\n",
    "air['Date'] = pd.to_datetime(air['Date'])\n",
    "\n",
    "air"
   ]
  },
  {
   "cell_type": "code",
   "execution_count": 3,
   "id": "decd4eff",
   "metadata": {},
   "outputs": [
    {
     "data": {
      "text/plain": [
       "Date          datetime64[ns]\n",
       "Passengers             int64\n",
       "dtype: object"
      ]
     },
     "execution_count": 3,
     "metadata": {},
     "output_type": "execute_result"
    }
   ],
   "source": [
    "air.dtypes"
   ]
  },
  {
   "cell_type": "markdown",
   "id": "eaa4b678",
   "metadata": {},
   "source": [
    "We can easily smooth passenger values ​​using a variety of exponential decay operations and the **Pandas** function *ewma()*"
   ]
  },
  {
   "cell_type": "code",
   "execution_count": 4,
   "id": "9b72d1e6",
   "metadata": {},
   "outputs": [
    {
     "data": {
      "text/html": [
       "<div>\n",
       "<style scoped>\n",
       "    .dataframe tbody tr th:only-of-type {\n",
       "        vertical-align: middle;\n",
       "    }\n",
       "\n",
       "    .dataframe tbody tr th {\n",
       "        vertical-align: top;\n",
       "    }\n",
       "\n",
       "    .dataframe thead th {\n",
       "        text-align: right;\n",
       "    }\n",
       "</style>\n",
       "<table border=\"1\" class=\"dataframe\">\n",
       "  <thead>\n",
       "    <tr style=\"text-align: right;\">\n",
       "      <th></th>\n",
       "      <th>Date</th>\n",
       "      <th>Passengers</th>\n",
       "      <th>Smooth.1</th>\n",
       "      <th>Smooth.5</th>\n",
       "      <th>Smooth.9</th>\n",
       "    </tr>\n",
       "  </thead>\n",
       "  <tbody>\n",
       "    <tr>\n",
       "      <th>0</th>\n",
       "      <td>1949-01-01</td>\n",
       "      <td>112</td>\n",
       "      <td>112.000000</td>\n",
       "      <td>112.000000</td>\n",
       "      <td>112.000000</td>\n",
       "    </tr>\n",
       "    <tr>\n",
       "      <th>1</th>\n",
       "      <td>1949-02-01</td>\n",
       "      <td>118</td>\n",
       "      <td>115.157895</td>\n",
       "      <td>116.000000</td>\n",
       "      <td>117.454545</td>\n",
       "    </tr>\n",
       "    <tr>\n",
       "      <th>2</th>\n",
       "      <td>1949-03-01</td>\n",
       "      <td>132</td>\n",
       "      <td>121.372694</td>\n",
       "      <td>125.142857</td>\n",
       "      <td>130.558559</td>\n",
       "    </tr>\n",
       "    <tr>\n",
       "      <th>3</th>\n",
       "      <td>1949-04-01</td>\n",
       "      <td>129</td>\n",
       "      <td>123.590579</td>\n",
       "      <td>127.200000</td>\n",
       "      <td>129.155716</td>\n",
       "    </tr>\n",
       "    <tr>\n",
       "      <th>4</th>\n",
       "      <td>1949-05-01</td>\n",
       "      <td>121</td>\n",
       "      <td>122.957974</td>\n",
       "      <td>124.000000</td>\n",
       "      <td>121.815498</td>\n",
       "    </tr>\n",
       "    <tr>\n",
       "      <th>...</th>\n",
       "      <td>...</td>\n",
       "      <td>...</td>\n",
       "      <td>...</td>\n",
       "      <td>...</td>\n",
       "      <td>...</td>\n",
       "    </tr>\n",
       "    <tr>\n",
       "      <th>139</th>\n",
       "      <td>1960-08-01</td>\n",
       "      <td>606</td>\n",
       "      <td>468.874660</td>\n",
       "      <td>582.096411</td>\n",
       "      <td>606.665454</td>\n",
       "    </tr>\n",
       "    <tr>\n",
       "      <th>140</th>\n",
       "      <td>1960-09-01</td>\n",
       "      <td>508</td>\n",
       "      <td>472.787195</td>\n",
       "      <td>545.048205</td>\n",
       "      <td>517.866545</td>\n",
       "    </tr>\n",
       "    <tr>\n",
       "      <th>141</th>\n",
       "      <td>1960-10-01</td>\n",
       "      <td>461</td>\n",
       "      <td>471.608475</td>\n",
       "      <td>503.024103</td>\n",
       "      <td>466.686655</td>\n",
       "    </tr>\n",
       "    <tr>\n",
       "      <th>142</th>\n",
       "      <td>1960-11-01</td>\n",
       "      <td>390</td>\n",
       "      <td>463.447626</td>\n",
       "      <td>446.512051</td>\n",
       "      <td>397.668665</td>\n",
       "    </tr>\n",
       "    <tr>\n",
       "      <th>143</th>\n",
       "      <td>1960-12-01</td>\n",
       "      <td>432</td>\n",
       "      <td>460.302862</td>\n",
       "      <td>439.256026</td>\n",
       "      <td>428.566867</td>\n",
       "    </tr>\n",
       "  </tbody>\n",
       "</table>\n",
       "<p>144 rows × 5 columns</p>\n",
       "</div>"
      ],
      "text/plain": [
       "          Date  Passengers    Smooth.1    Smooth.5    Smooth.9\n",
       "0   1949-01-01         112  112.000000  112.000000  112.000000\n",
       "1   1949-02-01         118  115.157895  116.000000  117.454545\n",
       "2   1949-03-01         132  121.372694  125.142857  130.558559\n",
       "3   1949-04-01         129  123.590579  127.200000  129.155716\n",
       "4   1949-05-01         121  122.957974  124.000000  121.815498\n",
       "..         ...         ...         ...         ...         ...\n",
       "139 1960-08-01         606  468.874660  582.096411  606.665454\n",
       "140 1960-09-01         508  472.787195  545.048205  517.866545\n",
       "141 1960-10-01         461  471.608475  503.024103  466.686655\n",
       "142 1960-11-01         390  463.447626  446.512051  397.668665\n",
       "143 1960-12-01         432  460.302862  439.256026  428.566867\n",
       "\n",
       "[144 rows x 5 columns]"
      ]
     },
     "execution_count": 4,
     "metadata": {},
     "output_type": "execute_result"
    }
   ],
   "source": [
    "air['Smooth.1'] = air[\"Passengers\"].ewm(alpha=0.1).mean()\n",
    "air['Smooth.5'] = air[\"Passengers\"].ewm(alpha=0.5).mean()\n",
    "air['Smooth.9'] = air[\"Passengers\"].ewm(alpha=0.9).mean()\n",
    "\n",
    "air"
   ]
  },
  {
   "cell_type": "markdown",
   "id": "e29ec9d1",
   "metadata": {},
   "source": [
    "As we can see, the level of the *alpha* parameter, also called *smoothing factor*, impacts how much the value is updated to its current value versus retaining information from the existing average. The higher the value of *alpha*, the faster the value is updated closer to its current price."
   ]
  },
  {
   "cell_type": "code",
   "execution_count": null,
   "id": "00ccfb27",
   "metadata": {},
   "outputs": [],
   "source": []
  }
 ],
 "metadata": {
  "kernelspec": {
   "display_name": "Python 3 (ipykernel)",
   "language": "python",
   "name": "python3"
  },
  "language_info": {
   "codemirror_mode": {
    "name": "ipython",
    "version": 3
   },
   "file_extension": ".py",
   "mimetype": "text/x-python",
   "name": "python",
   "nbconvert_exporter": "python",
   "pygments_lexer": "ipython3",
   "version": "3.9.13"
  }
 },
 "nbformat": 4,
 "nbformat_minor": 5
}
