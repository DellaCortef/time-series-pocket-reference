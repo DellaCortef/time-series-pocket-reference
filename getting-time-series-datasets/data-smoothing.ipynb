{
 "cells": [
  {
   "cell_type": "markdown",
   "id": "c0856deb",
   "metadata": {},
   "source": [
    "# Data Smoothing\n",
    "\n",
    "Although detecting *outliers* is a very broad topic, we can do the same using moving averages on **time series** data, eliminating *spikes*, measurement errors, or both. Even though the *spikes are accurate*, they \n",
    "may not reflect the underlying process and may be more a matter of instrumentation issues, so it is common to smooth the data.\n",
    "\n",
    "Data smoothing is closely related to missing data imputation. Thus, some of \n",
    "his techniques are also relevant to us. Smoothing can have many purposes:\n",
    "    - data preparation;\n",
    "    - feature generation;\n",
    "    - prediction;\n",
    "    - visualization;"
   ]
  },
  {
   "cell_type": "markdown",
   "id": "04014679",
   "metadata": {},
   "source": [
    "### Exponential Smoothing\n",
    "\n",
    "Compared to the moving average, exponential smoothing is more sensitive to temporality, weighting recent points more than less recent points. Therefore, for a given window, the closest point in time has a denser weight and each previous point in time has an exponentially smaller weight."
   ]
  },
  {
   "cell_type": "code",
   "execution_count": null,
   "id": "075b2219",
   "metadata": {},
   "outputs": [],
   "source": []
  }
 ],
 "metadata": {
  "kernelspec": {
   "display_name": "Python 3 (ipykernel)",
   "language": "python",
   "name": "python3"
  },
  "language_info": {
   "codemirror_mode": {
    "name": "ipython",
    "version": 3
   },
   "file_extension": ".py",
   "mimetype": "text/x-python",
   "name": "python",
   "nbconvert_exporter": "python",
   "pygments_lexer": "ipython3",
   "version": "3.9.13"
  }
 },
 "nbformat": 4,
 "nbformat_minor": 5
}
