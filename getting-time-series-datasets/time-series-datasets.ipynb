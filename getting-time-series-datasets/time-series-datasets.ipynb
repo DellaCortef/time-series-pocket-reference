{
 "cells": [
  {
   "cell_type": "markdown",
   "id": "4e139726",
   "metadata": {},
   "source": [
    "### Importing Libs"
   ]
  },
  {
   "cell_type": "code",
   "execution_count": 1,
   "id": "6e74d2e4",
   "metadata": {},
   "outputs": [],
   "source": [
    "import pandas as pd\n",
    "from datetime import datetime"
   ]
  },
  {
   "cell_type": "markdown",
   "id": "66a9b0d7",
   "metadata": {},
   "source": [
    "### Donations dataset\n",
    "Set consisting of three CSVs:\n",
    "- donations;\n",
    "- year of membership;\n",
    "- emails read;\n",
    "\n",
    "---> analyzing whether the member status is annual or just the most recent;\n",
    "\n",
    "---> analyzing the email table to understand the timestamp of the 'week' column;"
   ]
  },
  {
   "cell_type": "markdown",
   "id": "6ef306bf",
   "metadata": {},
   "source": [
    "#### Reading the datasets"
   ]
  },
  {
   "cell_type": "code",
   "execution_count": 2,
   "id": "dfde6701",
   "metadata": {},
   "outputs": [],
   "source": [
    "year_joined = pd.read_csv(\"/Users/dellacorte/py-projects/data-science/time-series-pocket-reference/getting-time-series-datasets/datasets/year_joined.csv\")\n",
    "\n",
    "donations = pd.read_csv(\"/Users/dellacorte/py-projects/data-science/time-series-pocket-reference/getting-time-series-datasets/datasets/donations.csv\")\n",
    "\n",
    "emails = pd.read_csv(\"/Users/dellacorte/py-projects/data-science/time-series-pocket-reference/getting-time-series-datasets/datasets/emails.csv\")"
   ]
  },
  {
   "cell_type": "markdown",
   "id": "396ce80d",
   "metadata": {},
   "source": [
    "#### Exploratory Data Analysis"
   ]
  },
  {
   "cell_type": "code",
   "execution_count": 3,
   "id": "fa949837",
   "metadata": {},
   "outputs": [
    {
     "data": {
      "text/html": [
       "<div>\n",
       "<style scoped>\n",
       "    .dataframe tbody tr th:only-of-type {\n",
       "        vertical-align: middle;\n",
       "    }\n",
       "\n",
       "    .dataframe tbody tr th {\n",
       "        vertical-align: top;\n",
       "    }\n",
       "\n",
       "    .dataframe thead th {\n",
       "        text-align: right;\n",
       "    }\n",
       "</style>\n",
       "<table border=\"1\" class=\"dataframe\">\n",
       "  <thead>\n",
       "    <tr style=\"text-align: right;\">\n",
       "      <th></th>\n",
       "      <th>yearJoined</th>\n",
       "    </tr>\n",
       "    <tr>\n",
       "      <th>userStats</th>\n",
       "      <th></th>\n",
       "    </tr>\n",
       "  </thead>\n",
       "  <tbody>\n",
       "    <tr>\n",
       "      <th>1</th>\n",
       "      <td>1000</td>\n",
       "    </tr>\n",
       "  </tbody>\n",
       "</table>\n",
       "</div>"
      ],
      "text/plain": [
       "           yearJoined\n",
       "userStats            \n",
       "1                1000"
      ]
     },
     "execution_count": 3,
     "metadata": {},
     "output_type": "execute_result"
    }
   ],
   "source": [
    "year_joined = pd.read_csv(\"/Users/dellacorte/py-projects/data-science/time-series-pocket-reference/getting-time-series-datasets/datasets/year_joined.csv\")\n",
    "\n",
    "# analyzing whether the member status is annual or just the most recent\n",
    "year_joined.groupby(\"user\").count().groupby(\"userStats\").count()"
   ]
  },
  {
   "cell_type": "markdown",
   "id": "43a1adb7",
   "metadata": {},
   "source": [
    "Checking the thousand records, they only have one status, so the year they joined will probably be yearJoined, accompanied by a status that could be the current status or when they joined."
   ]
  },
  {
   "cell_type": "code",
   "execution_count": 4,
   "id": "7757f760",
   "metadata": {},
   "outputs": [
    {
     "data": {
      "text/plain": [
       "emailsOpened    float64\n",
       "user            float64\n",
       "week             object\n",
       "dtype: object"
      ]
     },
     "execution_count": 4,
     "metadata": {},
     "output_type": "execute_result"
    }
   ],
   "source": [
    "# analyzing the email table to understand the timestamp of the 'week' column\n",
    "emails = pd.read_csv(\"/Users/dellacorte/py-projects/data-science/time-series-pocket-reference/getting-time-series-datasets/datasets/emails.csv\")\n",
    "# emails.head()\n",
    "emails.dtypes\n",
    "\n",
    "#empty_emails = emails[emails.emailsOpened < 1]\n",
    "#empty_emails"
   ]
  },
  {
   "cell_type": "markdown",
   "id": "da37ad47",
   "metadata": {},
   "source": [
    "There is a possibility that null weeks are not depicted in the table or members always have at least one email event. It's difficult to accept the possibility of always having an email event, so to do this, we can analyze the history of just one user:"
   ]
  },
  {
   "cell_type": "code",
   "execution_count": 5,
   "id": "e2ca9077",
   "metadata": {},
   "outputs": [
    {
     "data": {
      "text/html": [
       "<div>\n",
       "<style scoped>\n",
       "    .dataframe tbody tr th:only-of-type {\n",
       "        vertical-align: middle;\n",
       "    }\n",
       "\n",
       "    .dataframe tbody tr th {\n",
       "        vertical-align: top;\n",
       "    }\n",
       "\n",
       "    .dataframe thead th {\n",
       "        text-align: right;\n",
       "    }\n",
       "</style>\n",
       "<table border=\"1\" class=\"dataframe\">\n",
       "  <thead>\n",
       "    <tr style=\"text-align: right;\">\n",
       "      <th></th>\n",
       "      <th>emailsOpened</th>\n",
       "      <th>user</th>\n",
       "      <th>week</th>\n",
       "    </tr>\n",
       "  </thead>\n",
       "  <tbody>\n",
       "    <tr>\n",
       "      <th>25464</th>\n",
       "      <td>1.0</td>\n",
       "      <td>998.0</td>\n",
       "      <td>2017-12-04 00:00:00</td>\n",
       "    </tr>\n",
       "    <tr>\n",
       "      <th>25465</th>\n",
       "      <td>3.0</td>\n",
       "      <td>998.0</td>\n",
       "      <td>2017-12-11 00:00:00</td>\n",
       "    </tr>\n",
       "    <tr>\n",
       "      <th>25466</th>\n",
       "      <td>3.0</td>\n",
       "      <td>998.0</td>\n",
       "      <td>2017-12-18 00:00:00</td>\n",
       "    </tr>\n",
       "    <tr>\n",
       "      <th>25467</th>\n",
       "      <td>3.0</td>\n",
       "      <td>998.0</td>\n",
       "      <td>2018-01-01 00:00:00</td>\n",
       "    </tr>\n",
       "    <tr>\n",
       "      <th>25468</th>\n",
       "      <td>3.0</td>\n",
       "      <td>998.0</td>\n",
       "      <td>2018-01-08 00:00:00</td>\n",
       "    </tr>\n",
       "    <tr>\n",
       "      <th>25469</th>\n",
       "      <td>2.0</td>\n",
       "      <td>998.0</td>\n",
       "      <td>2018-01-15 00:00:00</td>\n",
       "    </tr>\n",
       "    <tr>\n",
       "      <th>25470</th>\n",
       "      <td>3.0</td>\n",
       "      <td>998.0</td>\n",
       "      <td>2018-01-22 00:00:00</td>\n",
       "    </tr>\n",
       "    <tr>\n",
       "      <th>25471</th>\n",
       "      <td>2.0</td>\n",
       "      <td>998.0</td>\n",
       "      <td>2018-01-29 00:00:00</td>\n",
       "    </tr>\n",
       "    <tr>\n",
       "      <th>25472</th>\n",
       "      <td>3.0</td>\n",
       "      <td>998.0</td>\n",
       "      <td>2018-02-05 00:00:00</td>\n",
       "    </tr>\n",
       "    <tr>\n",
       "      <th>25473</th>\n",
       "      <td>3.0</td>\n",
       "      <td>998.0</td>\n",
       "      <td>2018-02-12 00:00:00</td>\n",
       "    </tr>\n",
       "    <tr>\n",
       "      <th>25474</th>\n",
       "      <td>3.0</td>\n",
       "      <td>998.0</td>\n",
       "      <td>2018-02-19 00:00:00</td>\n",
       "    </tr>\n",
       "    <tr>\n",
       "      <th>25475</th>\n",
       "      <td>2.0</td>\n",
       "      <td>998.0</td>\n",
       "      <td>2018-02-26 00:00:00</td>\n",
       "    </tr>\n",
       "    <tr>\n",
       "      <th>25476</th>\n",
       "      <td>2.0</td>\n",
       "      <td>998.0</td>\n",
       "      <td>2018-03-05 00:00:00</td>\n",
       "    </tr>\n",
       "    <tr>\n",
       "      <th>25477</th>\n",
       "      <td>3.0</td>\n",
       "      <td>998.0</td>\n",
       "      <td>2018-03-12 00:00:00</td>\n",
       "    </tr>\n",
       "    <tr>\n",
       "      <th>25478</th>\n",
       "      <td>2.0</td>\n",
       "      <td>998.0</td>\n",
       "      <td>2018-03-19 00:00:00</td>\n",
       "    </tr>\n",
       "    <tr>\n",
       "      <th>25479</th>\n",
       "      <td>2.0</td>\n",
       "      <td>998.0</td>\n",
       "      <td>2018-03-26 00:00:00</td>\n",
       "    </tr>\n",
       "    <tr>\n",
       "      <th>25480</th>\n",
       "      <td>3.0</td>\n",
       "      <td>998.0</td>\n",
       "      <td>2018-04-02 00:00:00</td>\n",
       "    </tr>\n",
       "    <tr>\n",
       "      <th>25481</th>\n",
       "      <td>3.0</td>\n",
       "      <td>998.0</td>\n",
       "      <td>2018-04-09 00:00:00</td>\n",
       "    </tr>\n",
       "    <tr>\n",
       "      <th>25482</th>\n",
       "      <td>3.0</td>\n",
       "      <td>998.0</td>\n",
       "      <td>2018-04-16 00:00:00</td>\n",
       "    </tr>\n",
       "    <tr>\n",
       "      <th>25483</th>\n",
       "      <td>3.0</td>\n",
       "      <td>998.0</td>\n",
       "      <td>2018-04-30 00:00:00</td>\n",
       "    </tr>\n",
       "    <tr>\n",
       "      <th>25484</th>\n",
       "      <td>3.0</td>\n",
       "      <td>998.0</td>\n",
       "      <td>2018-05-07 00:00:00</td>\n",
       "    </tr>\n",
       "    <tr>\n",
       "      <th>25485</th>\n",
       "      <td>3.0</td>\n",
       "      <td>998.0</td>\n",
       "      <td>2018-05-14 00:00:00</td>\n",
       "    </tr>\n",
       "    <tr>\n",
       "      <th>25486</th>\n",
       "      <td>3.0</td>\n",
       "      <td>998.0</td>\n",
       "      <td>2018-05-21 00:00:00</td>\n",
       "    </tr>\n",
       "    <tr>\n",
       "      <th>25487</th>\n",
       "      <td>3.0</td>\n",
       "      <td>998.0</td>\n",
       "      <td>2018-05-28 00:00:00</td>\n",
       "    </tr>\n",
       "  </tbody>\n",
       "</table>\n",
       "</div>"
      ],
      "text/plain": [
       "       emailsOpened   user                 week\n",
       "25464           1.0  998.0  2017-12-04 00:00:00\n",
       "25465           3.0  998.0  2017-12-11 00:00:00\n",
       "25466           3.0  998.0  2017-12-18 00:00:00\n",
       "25467           3.0  998.0  2018-01-01 00:00:00\n",
       "25468           3.0  998.0  2018-01-08 00:00:00\n",
       "25469           2.0  998.0  2018-01-15 00:00:00\n",
       "25470           3.0  998.0  2018-01-22 00:00:00\n",
       "25471           2.0  998.0  2018-01-29 00:00:00\n",
       "25472           3.0  998.0  2018-02-05 00:00:00\n",
       "25473           3.0  998.0  2018-02-12 00:00:00\n",
       "25474           3.0  998.0  2018-02-19 00:00:00\n",
       "25475           2.0  998.0  2018-02-26 00:00:00\n",
       "25476           2.0  998.0  2018-03-05 00:00:00\n",
       "25477           3.0  998.0  2018-03-12 00:00:00\n",
       "25478           2.0  998.0  2018-03-19 00:00:00\n",
       "25479           2.0  998.0  2018-03-26 00:00:00\n",
       "25480           3.0  998.0  2018-04-02 00:00:00\n",
       "25481           3.0  998.0  2018-04-09 00:00:00\n",
       "25482           3.0  998.0  2018-04-16 00:00:00\n",
       "25483           3.0  998.0  2018-04-30 00:00:00\n",
       "25484           3.0  998.0  2018-05-07 00:00:00\n",
       "25485           3.0  998.0  2018-05-14 00:00:00\n",
       "25486           3.0  998.0  2018-05-21 00:00:00\n",
       "25487           3.0  998.0  2018-05-28 00:00:00"
      ]
     },
     "execution_count": 5,
     "metadata": {},
     "output_type": "execute_result"
    }
   ],
   "source": [
    "user_998 = emails[emails.user == 998]\n",
    "user_998"
   ]
  },
  {
   "cell_type": "markdown",
   "id": "2ba147ee",
   "metadata": {},
   "source": [
    "We can notice that some weeks are missing. For example, there are no email events after December 18, 2017. We can go further and check mathematically:"
   ]
  },
  {
   "cell_type": "code",
   "execution_count": 6,
   "id": "0083994a",
   "metadata": {},
   "outputs": [
    {
     "data": {
      "text/plain": [
       "25.0"
      ]
     },
     "execution_count": 6,
     "metadata": {},
     "output_type": "execute_result"
    }
   ],
   "source": [
    "# converting object to datetime\n",
    "emails['week'] = pd.to_datetime(emails['week'])\n",
    "\n",
    "# member's membership time\n",
    "user_membership = (max(emails[emails.user == 998].week) - \n",
    "                      min(emails[emails.user == 998].week)).days/7\n",
    "\n",
    "user_membership"
   ]
  },
  {
   "cell_type": "code",
   "execution_count": 7,
   "id": "59fda113",
   "metadata": {},
   "outputs": [
    {
     "data": {
      "text/plain": [
       "(24, 3)"
      ]
     },
     "execution_count": 7,
     "metadata": {},
     "output_type": "execute_result"
    }
   ],
   "source": [
    "# number of corresponding weeks of data for user = 998\n",
    "quantity_weeks_data_998 = emails[emails.user == 998].shape\n",
    "quantity_weeks_data_998"
   ]
  },
  {
   "cell_type": "markdown",
   "id": "57647f42",
   "metadata": {},
   "source": [
    "We have 24 rows, but we should have 26. This shows that a few weeks of this user's data is missing. By the way, we could also run this calculation for all users simultaneously."
   ]
  },
  {
   "cell_type": "markdown",
   "id": "77e23783",
   "metadata": {},
   "source": [
    "Filling in all missing weeks for all users of the dataset"
   ]
  },
  {
   "cell_type": "code",
   "execution_count": 8,
   "id": "8d4f97de",
   "metadata": {},
   "outputs": [],
   "source": [
    "complete_idx = pd.MultiIndex.from_product((set(emails.week),\n",
    "                                          set(emails.user)))"
   ]
  },
  {
   "cell_type": "markdown",
   "id": "f3f59d9f",
   "metadata": {},
   "source": [
    "We will use this index to re-index the original table and fill in the missing values - in this case with 0, assuming that if nothing is recorded it means there was nothing to record.\n",
    "We'll also redefine the index to make user and week information available as columns, and then name those columns:"
   ]
  },
  {
   "cell_type": "code",
   "execution_count": 9,
   "id": "e275c427",
   "metadata": {},
   "outputs": [],
   "source": [
    "all_email = emails.set_index(['week', 'user']).reindex(complete_idx, fill_value = 0).reset_index()\n",
    "        \n",
    "all_email.columns = ['week', 'user', 'emailsOpened']"
   ]
  },
  {
   "cell_type": "code",
   "execution_count": 10,
   "id": "5b6caa4d",
   "metadata": {},
   "outputs": [
    {
     "data": {
      "text/html": [
       "<div>\n",
       "<style scoped>\n",
       "    .dataframe tbody tr th:only-of-type {\n",
       "        vertical-align: middle;\n",
       "    }\n",
       "\n",
       "    .dataframe tbody tr th {\n",
       "        vertical-align: top;\n",
       "    }\n",
       "\n",
       "    .dataframe thead th {\n",
       "        text-align: right;\n",
       "    }\n",
       "</style>\n",
       "<table border=\"1\" class=\"dataframe\">\n",
       "  <thead>\n",
       "    <tr style=\"text-align: right;\">\n",
       "      <th></th>\n",
       "      <th>week</th>\n",
       "      <th>user</th>\n",
       "      <th>emailsOpened</th>\n",
       "    </tr>\n",
       "  </thead>\n",
       "  <tbody>\n",
       "    <tr>\n",
       "      <th>2155</th>\n",
       "      <td>2015-02-09</td>\n",
       "      <td>998.0</td>\n",
       "      <td>0.0</td>\n",
       "    </tr>\n",
       "    <tr>\n",
       "      <th>69530</th>\n",
       "      <td>2015-02-16</td>\n",
       "      <td>998.0</td>\n",
       "      <td>0.0</td>\n",
       "    </tr>\n",
       "    <tr>\n",
       "      <th>72225</th>\n",
       "      <td>2015-02-23</td>\n",
       "      <td>998.0</td>\n",
       "      <td>0.0</td>\n",
       "    </tr>\n",
       "    <tr>\n",
       "      <th>77076</th>\n",
       "      <td>2015-03-02</td>\n",
       "      <td>998.0</td>\n",
       "      <td>0.0</td>\n",
       "    </tr>\n",
       "    <tr>\n",
       "      <th>39346</th>\n",
       "      <td>2015-03-09</td>\n",
       "      <td>998.0</td>\n",
       "      <td>0.0</td>\n",
       "    </tr>\n",
       "    <tr>\n",
       "      <th>...</th>\n",
       "      <td>...</td>\n",
       "      <td>...</td>\n",
       "      <td>...</td>\n",
       "    </tr>\n",
       "    <tr>\n",
       "      <th>14552</th>\n",
       "      <td>2018-04-30</td>\n",
       "      <td>998.0</td>\n",
       "      <td>3.0</td>\n",
       "    </tr>\n",
       "    <tr>\n",
       "      <th>60367</th>\n",
       "      <td>2018-05-07</td>\n",
       "      <td>998.0</td>\n",
       "      <td>3.0</td>\n",
       "    </tr>\n",
       "    <tr>\n",
       "      <th>55516</th>\n",
       "      <td>2018-05-14</td>\n",
       "      <td>998.0</td>\n",
       "      <td>3.0</td>\n",
       "    </tr>\n",
       "    <tr>\n",
       "      <th>85700</th>\n",
       "      <td>2018-05-21</td>\n",
       "      <td>998.0</td>\n",
       "      <td>3.0</td>\n",
       "    </tr>\n",
       "    <tr>\n",
       "      <th>84083</th>\n",
       "      <td>2018-05-28</td>\n",
       "      <td>998.0</td>\n",
       "      <td>3.0</td>\n",
       "    </tr>\n",
       "  </tbody>\n",
       "</table>\n",
       "<p>173 rows × 3 columns</p>\n",
       "</div>"
      ],
      "text/plain": [
       "            week   user  emailsOpened\n",
       "2155  2015-02-09  998.0           0.0\n",
       "69530 2015-02-16  998.0           0.0\n",
       "72225 2015-02-23  998.0           0.0\n",
       "77076 2015-03-02  998.0           0.0\n",
       "39346 2015-03-09  998.0           0.0\n",
       "...          ...    ...           ...\n",
       "14552 2018-04-30  998.0           3.0\n",
       "60367 2018-05-07  998.0           3.0\n",
       "55516 2018-05-14  998.0           3.0\n",
       "85700 2018-05-21  998.0           3.0\n",
       "84083 2018-05-28  998.0           3.0\n",
       "\n",
       "[173 rows x 3 columns]"
      ]
     },
     "execution_count": 10,
     "metadata": {},
     "output_type": "execute_result"
    }
   ],
   "source": [
    "all_email[all_email.user == 998].sort_values('week')"
   ]
  },
  {
   "cell_type": "markdown",
   "id": "d23f9f95",
   "metadata": {},
   "source": [
    "As we do not have the exact date on which a member started receiving emails, we are unable to implement an objective *cutoff*. With this, we will apply the rule that, for each user, we will determine the *start_date* and *end_date* cutoff points by grouping the Email DataFrame by user and selecting the maximum and minimum values ​​for the week:"
   ]
  },
  {
   "cell_type": "code",
   "execution_count": 11,
   "id": "463ae316",
   "metadata": {},
   "outputs": [
    {
     "data": {
      "text/html": [
       "<div>\n",
       "<style scoped>\n",
       "    .dataframe tbody tr th:only-of-type {\n",
       "        vertical-align: middle;\n",
       "    }\n",
       "\n",
       "    .dataframe tbody tr th {\n",
       "        vertical-align: top;\n",
       "    }\n",
       "\n",
       "    .dataframe thead th {\n",
       "        text-align: right;\n",
       "    }\n",
       "</style>\n",
       "<table border=\"1\" class=\"dataframe\">\n",
       "  <thead>\n",
       "    <tr style=\"text-align: right;\">\n",
       "      <th></th>\n",
       "      <th>index</th>\n",
       "      <th>user</th>\n",
       "      <th>min</th>\n",
       "      <th>max</th>\n",
       "    </tr>\n",
       "  </thead>\n",
       "  <tbody>\n",
       "    <tr>\n",
       "      <th>0</th>\n",
       "      <td>0</td>\n",
       "      <td>1.0</td>\n",
       "      <td>2015-06-29</td>\n",
       "      <td>2018-05-28</td>\n",
       "    </tr>\n",
       "    <tr>\n",
       "      <th>1</th>\n",
       "      <td>1</td>\n",
       "      <td>3.0</td>\n",
       "      <td>2018-03-05</td>\n",
       "      <td>2018-04-23</td>\n",
       "    </tr>\n",
       "    <tr>\n",
       "      <th>2</th>\n",
       "      <td>2</td>\n",
       "      <td>5.0</td>\n",
       "      <td>2017-06-05</td>\n",
       "      <td>2018-05-28</td>\n",
       "    </tr>\n",
       "    <tr>\n",
       "      <th>3</th>\n",
       "      <td>3</td>\n",
       "      <td>6.0</td>\n",
       "      <td>2016-12-05</td>\n",
       "      <td>2018-05-28</td>\n",
       "    </tr>\n",
       "    <tr>\n",
       "      <th>4</th>\n",
       "      <td>4</td>\n",
       "      <td>9.0</td>\n",
       "      <td>2016-07-18</td>\n",
       "      <td>2018-05-28</td>\n",
       "    </tr>\n",
       "    <tr>\n",
       "      <th>...</th>\n",
       "      <td>...</td>\n",
       "      <td>...</td>\n",
       "      <td>...</td>\n",
       "      <td>...</td>\n",
       "    </tr>\n",
       "    <tr>\n",
       "      <th>534</th>\n",
       "      <td>534</td>\n",
       "      <td>991.0</td>\n",
       "      <td>2016-10-24</td>\n",
       "      <td>2016-10-24</td>\n",
       "    </tr>\n",
       "    <tr>\n",
       "      <th>535</th>\n",
       "      <td>535</td>\n",
       "      <td>992.0</td>\n",
       "      <td>2015-02-09</td>\n",
       "      <td>2015-07-06</td>\n",
       "    </tr>\n",
       "    <tr>\n",
       "      <th>536</th>\n",
       "      <td>536</td>\n",
       "      <td>993.0</td>\n",
       "      <td>2017-09-11</td>\n",
       "      <td>2018-05-28</td>\n",
       "    </tr>\n",
       "    <tr>\n",
       "      <th>537</th>\n",
       "      <td>537</td>\n",
       "      <td>995.0</td>\n",
       "      <td>2016-09-05</td>\n",
       "      <td>2018-05-28</td>\n",
       "    </tr>\n",
       "    <tr>\n",
       "      <th>538</th>\n",
       "      <td>538</td>\n",
       "      <td>998.0</td>\n",
       "      <td>2017-12-04</td>\n",
       "      <td>2018-05-28</td>\n",
       "    </tr>\n",
       "  </tbody>\n",
       "</table>\n",
       "<p>539 rows × 4 columns</p>\n",
       "</div>"
      ],
      "text/plain": [
       "     index   user        min        max\n",
       "0        0    1.0 2015-06-29 2018-05-28\n",
       "1        1    3.0 2018-03-05 2018-04-23\n",
       "2        2    5.0 2017-06-05 2018-05-28\n",
       "3        3    6.0 2016-12-05 2018-05-28\n",
       "4        4    9.0 2016-07-18 2018-05-28\n",
       "..     ...    ...        ...        ...\n",
       "534    534  991.0 2016-10-24 2016-10-24\n",
       "535    535  992.0 2015-02-09 2015-07-06\n",
       "536    536  993.0 2017-09-11 2018-05-28\n",
       "537    537  995.0 2016-09-05 2018-05-28\n",
       "538    538  998.0 2017-12-04 2018-05-28\n",
       "\n",
       "[539 rows x 4 columns]"
      ]
     },
     "execution_count": 11,
     "metadata": {},
     "output_type": "execute_result"
    }
   ],
   "source": [
    "cutoff_dates = emails.groupby('user').week.agg(['min', 'max']).reset_index()\n",
    "\n",
    "cutoff_dates = cutoff_dates.reset_index()\n",
    "\n",
    "cutoff_dates"
   ]
  },
  {
   "cell_type": "markdown",
   "id": "cfc56c2f",
   "metadata": {},
   "source": [
    "We will drop the lines from the DataFrame that do not contribute much to the chronology:"
   ]
  },
  {
   "cell_type": "code",
   "execution_count": 12,
   "id": "be038f78",
   "metadata": {},
   "outputs": [
    {
     "name": "stderr",
     "output_type": "stream",
     "text": [
      "/var/folders/vb/yxjjx1m94n93ty4t50m8f2b40000gn/T/ipykernel_31487/1576256864.py:6: UserWarning: Boolean Series key will be reindexed to match DataFrame index.\n",
      "  all_email.drop(all_email[all_email.user == user]\n",
      "/var/folders/vb/yxjjx1m94n93ty4t50m8f2b40000gn/T/ipykernel_31487/1576256864.py:9: UserWarning: Boolean Series key will be reindexed to match DataFrame index.\n",
      "  all_email.drop(all_email[all_email.user == user]\n"
     ]
    },
    {
     "data": {
      "text/html": [
       "<div>\n",
       "<style scoped>\n",
       "    .dataframe tbody tr th:only-of-type {\n",
       "        vertical-align: middle;\n",
       "    }\n",
       "\n",
       "    .dataframe tbody tr th {\n",
       "        vertical-align: top;\n",
       "    }\n",
       "\n",
       "    .dataframe thead th {\n",
       "        text-align: right;\n",
       "    }\n",
       "</style>\n",
       "<table border=\"1\" class=\"dataframe\">\n",
       "  <thead>\n",
       "    <tr style=\"text-align: right;\">\n",
       "      <th></th>\n",
       "      <th>week</th>\n",
       "      <th>user</th>\n",
       "      <th>emailsOpened</th>\n",
       "    </tr>\n",
       "  </thead>\n",
       "  <tbody>\n",
       "    <tr>\n",
       "      <th>0</th>\n",
       "      <td>2016-04-11</td>\n",
       "      <td>1.0</td>\n",
       "      <td>3.0</td>\n",
       "    </tr>\n",
       "    <tr>\n",
       "      <th>1</th>\n",
       "      <td>2016-04-11</td>\n",
       "      <td>3.0</td>\n",
       "      <td>0.0</td>\n",
       "    </tr>\n",
       "    <tr>\n",
       "      <th>2</th>\n",
       "      <td>2016-04-11</td>\n",
       "      <td>5.0</td>\n",
       "      <td>0.0</td>\n",
       "    </tr>\n",
       "    <tr>\n",
       "      <th>3</th>\n",
       "      <td>2016-04-11</td>\n",
       "      <td>6.0</td>\n",
       "      <td>0.0</td>\n",
       "    </tr>\n",
       "    <tr>\n",
       "      <th>4</th>\n",
       "      <td>2016-04-11</td>\n",
       "      <td>9.0</td>\n",
       "      <td>0.0</td>\n",
       "    </tr>\n",
       "    <tr>\n",
       "      <th>...</th>\n",
       "      <td>...</td>\n",
       "      <td>...</td>\n",
       "      <td>...</td>\n",
       "    </tr>\n",
       "    <tr>\n",
       "      <th>93241</th>\n",
       "      <td>2016-05-02</td>\n",
       "      <td>987.0</td>\n",
       "      <td>0.0</td>\n",
       "    </tr>\n",
       "    <tr>\n",
       "      <th>93242</th>\n",
       "      <td>2016-05-02</td>\n",
       "      <td>991.0</td>\n",
       "      <td>0.0</td>\n",
       "    </tr>\n",
       "    <tr>\n",
       "      <th>93243</th>\n",
       "      <td>2016-05-02</td>\n",
       "      <td>992.0</td>\n",
       "      <td>0.0</td>\n",
       "    </tr>\n",
       "    <tr>\n",
       "      <th>93244</th>\n",
       "      <td>2016-05-02</td>\n",
       "      <td>993.0</td>\n",
       "      <td>0.0</td>\n",
       "    </tr>\n",
       "    <tr>\n",
       "      <th>93245</th>\n",
       "      <td>2016-05-02</td>\n",
       "      <td>995.0</td>\n",
       "      <td>0.0</td>\n",
       "    </tr>\n",
       "  </tbody>\n",
       "</table>\n",
       "<p>93100 rows × 3 columns</p>\n",
       "</div>"
      ],
      "text/plain": [
       "            week   user  emailsOpened\n",
       "0     2016-04-11    1.0           3.0\n",
       "1     2016-04-11    3.0           0.0\n",
       "2     2016-04-11    5.0           0.0\n",
       "3     2016-04-11    6.0           0.0\n",
       "4     2016-04-11    9.0           0.0\n",
       "...          ...    ...           ...\n",
       "93241 2016-05-02  987.0           0.0\n",
       "93242 2016-05-02  991.0           0.0\n",
       "93243 2016-05-02  992.0           0.0\n",
       "93244 2016-05-02  993.0           0.0\n",
       "93245 2016-05-02  995.0           0.0\n",
       "\n",
       "[93100 rows x 3 columns]"
      ]
     },
     "execution_count": 12,
     "metadata": {},
     "output_type": "execute_result"
    }
   ],
   "source": [
    "for _, row in cutoff_dates.iterrows():\n",
    "    user       = row['user']\n",
    "    start_date = row['min']\n",
    "    end_date   = row['max']\n",
    "\n",
    "all_email.drop(all_email[all_email.user == user]\n",
    "    [all_email.week < start_date].index, inplace = True)\n",
    "\n",
    "all_email.drop(all_email[all_email.user == user]\n",
    "    [all_email.week > end_date].index, inplace = True)\n",
    "\n",
    "all_email"
   ]
  },
  {
   "cell_type": "markdown",
   "id": "6b5e98f6",
   "metadata": {},
   "source": [
    "#### Relating email and donation data\n",
    "\n",
    "We can *downsample* the donation data to turn it into a weekly time series that is comparable to email data. We will aggregate the *timestamps* into weekly periods when summing them."
   ]
  },
  {
   "cell_type": "code",
   "execution_count": 13,
   "id": "c08033cc",
   "metadata": {},
   "outputs": [],
   "source": [
    "# converting a string character to a data class\n",
    "donations.timestamp = pd.to_datetime(donations.timestamp)\n",
    "\n",
    "# setting the timestamp as an index\n",
    "donations.set_index('timestamp', inplace = True)\n",
    "\n",
    "# grouping and adding up donations per week, dropping the weeks that have no donations\n",
    "agg_don = donations.groupby('user').resample(\"W-MON\").sum().dropna()"
   ]
  },
  {
   "cell_type": "code",
   "execution_count": 14,
   "id": "1156ca80",
   "metadata": {},
   "outputs": [
    {
     "data": {
      "text/html": [
       "<div>\n",
       "<style scoped>\n",
       "    .dataframe tbody tr th:only-of-type {\n",
       "        vertical-align: middle;\n",
       "    }\n",
       "\n",
       "    .dataframe tbody tr th {\n",
       "        vertical-align: top;\n",
       "    }\n",
       "\n",
       "    .dataframe thead th {\n",
       "        text-align: right;\n",
       "    }\n",
       "</style>\n",
       "<table border=\"1\" class=\"dataframe\">\n",
       "  <thead>\n",
       "    <tr style=\"text-align: right;\">\n",
       "      <th></th>\n",
       "      <th></th>\n",
       "      <th>amount</th>\n",
       "      <th>user</th>\n",
       "    </tr>\n",
       "    <tr>\n",
       "      <th>user</th>\n",
       "      <th>timestamp</th>\n",
       "      <th></th>\n",
       "      <th></th>\n",
       "    </tr>\n",
       "  </thead>\n",
       "  <tbody>\n",
       "    <tr>\n",
       "      <th rowspan=\"5\" valign=\"top\">0.0</th>\n",
       "      <th>2015-03-30</th>\n",
       "      <td>25.0</td>\n",
       "      <td>0.0</td>\n",
       "    </tr>\n",
       "    <tr>\n",
       "      <th>2015-04-06</th>\n",
       "      <td>0.0</td>\n",
       "      <td>0.0</td>\n",
       "    </tr>\n",
       "    <tr>\n",
       "      <th>2015-04-13</th>\n",
       "      <td>0.0</td>\n",
       "      <td>0.0</td>\n",
       "    </tr>\n",
       "    <tr>\n",
       "      <th>2015-04-20</th>\n",
       "      <td>0.0</td>\n",
       "      <td>0.0</td>\n",
       "    </tr>\n",
       "    <tr>\n",
       "      <th>2015-04-27</th>\n",
       "      <td>0.0</td>\n",
       "      <td>0.0</td>\n",
       "    </tr>\n",
       "    <tr>\n",
       "      <th>...</th>\n",
       "      <th>...</th>\n",
       "      <td>...</td>\n",
       "      <td>...</td>\n",
       "    </tr>\n",
       "    <tr>\n",
       "      <th rowspan=\"4\" valign=\"top\">995.0</th>\n",
       "      <th>2017-09-11</th>\n",
       "      <td>0.0</td>\n",
       "      <td>0.0</td>\n",
       "    </tr>\n",
       "    <tr>\n",
       "      <th>2017-09-18</th>\n",
       "      <td>0.0</td>\n",
       "      <td>0.0</td>\n",
       "    </tr>\n",
       "    <tr>\n",
       "      <th>2017-09-25</th>\n",
       "      <td>0.0</td>\n",
       "      <td>0.0</td>\n",
       "    </tr>\n",
       "    <tr>\n",
       "      <th>2017-10-02</th>\n",
       "      <td>1000.0</td>\n",
       "      <td>995.0</td>\n",
       "    </tr>\n",
       "    <tr>\n",
       "      <th>998.0</th>\n",
       "      <th>2018-01-08</th>\n",
       "      <td>50.0</td>\n",
       "      <td>998.0</td>\n",
       "    </tr>\n",
       "  </tbody>\n",
       "</table>\n",
       "<p>32352 rows × 2 columns</p>\n",
       "</div>"
      ],
      "text/plain": [
       "                  amount   user\n",
       "user  timestamp                \n",
       "0.0   2015-03-30    25.0    0.0\n",
       "      2015-04-06     0.0    0.0\n",
       "      2015-04-13     0.0    0.0\n",
       "      2015-04-20     0.0    0.0\n",
       "      2015-04-27     0.0    0.0\n",
       "...                  ...    ...\n",
       "995.0 2017-09-11     0.0    0.0\n",
       "      2017-09-18     0.0    0.0\n",
       "      2017-09-25     0.0    0.0\n",
       "      2017-10-02  1000.0  995.0\n",
       "998.0 2018-01-08    50.0  998.0\n",
       "\n",
       "[32352 rows x 2 columns]"
      ]
     },
     "execution_count": 14,
     "metadata": {},
     "output_type": "execute_result"
    }
   ],
   "source": [
    "agg_don"
   ]
  },
  {
   "cell_type": "code",
   "execution_count": 15,
   "id": "9ab7b1b6",
   "metadata": {},
   "outputs": [
    {
     "data": {
      "text/plain": [
       "\"\\ndf['D'] = (df.apply(lambda x: myfunc(x.colNames[0], x.colNames[1]), axis=1))\\n\\ndf['D'] = (df.apply(lambda x: myfunc(x[colNames[0]], x[colNames[1]]), axis=1)'\\n\""
      ]
     },
     "execution_count": 15,
     "metadata": {},
     "output_type": "execute_result"
    }
   ],
   "source": [
    "'''\n",
    "df['D'] = (df.apply(lambda x: myfunc(x.colNames[0], x.colNames[1]), axis=1))\n",
    "\n",
    "df['D'] = (df.apply(lambda x: myfunc(x[colNames[0]], x[colNames[1]]), axis=1)'\n",
    "'''"
   ]
  },
  {
   "cell_type": "code",
   "execution_count": 16,
   "id": "94321f49",
   "metadata": {},
   "outputs": [
    {
     "ename": "AttributeError",
     "evalue": "'DataFrame' object has no attribute 'to_frame'",
     "output_type": "error",
     "traceback": [
      "\u001b[0;31m---------------------------------------------------------------------------\u001b[0m",
      "\u001b[0;31mAttributeError\u001b[0m                            Traceback (most recent call last)",
      "\u001b[0;32m/var/folders/vb/yxjjx1m94n93ty4t50m8f2b40000gn/T/ipykernel_31487/2137257421.py\u001b[0m in \u001b[0;36m<module>\u001b[0;34m\u001b[0m\n\u001b[0;32m----> 1\u001b[0;31m \u001b[0magg_donations\u001b[0m \u001b[0;34m=\u001b[0m \u001b[0magg_don\u001b[0m\u001b[0;34m.\u001b[0m\u001b[0mto_frame\u001b[0m\u001b[0;34m(\u001b[0m\u001b[0;34m)\u001b[0m\u001b[0;34m\u001b[0m\u001b[0;34m\u001b[0m\u001b[0m\n\u001b[0m\u001b[1;32m      2\u001b[0m \u001b[0magg_donations\u001b[0m\u001b[0;34m\u001b[0m\u001b[0;34m\u001b[0m\u001b[0m\n",
      "\u001b[0;32m~/opt/anaconda3/lib/python3.9/site-packages/pandas/core/generic.py\u001b[0m in \u001b[0;36m__getattr__\u001b[0;34m(self, name)\u001b[0m\n\u001b[1;32m   5987\u001b[0m         ):\n\u001b[1;32m   5988\u001b[0m             \u001b[0;32mreturn\u001b[0m \u001b[0mself\u001b[0m\u001b[0;34m[\u001b[0m\u001b[0mname\u001b[0m\u001b[0;34m]\u001b[0m\u001b[0;34m\u001b[0m\u001b[0;34m\u001b[0m\u001b[0m\n\u001b[0;32m-> 5989\u001b[0;31m         \u001b[0;32mreturn\u001b[0m \u001b[0mobject\u001b[0m\u001b[0;34m.\u001b[0m\u001b[0m__getattribute__\u001b[0m\u001b[0;34m(\u001b[0m\u001b[0mself\u001b[0m\u001b[0;34m,\u001b[0m \u001b[0mname\u001b[0m\u001b[0;34m)\u001b[0m\u001b[0;34m\u001b[0m\u001b[0;34m\u001b[0m\u001b[0m\n\u001b[0m\u001b[1;32m   5990\u001b[0m \u001b[0;34m\u001b[0m\u001b[0m\n\u001b[1;32m   5991\u001b[0m     \u001b[0;32mdef\u001b[0m \u001b[0m__setattr__\u001b[0m\u001b[0;34m(\u001b[0m\u001b[0mself\u001b[0m\u001b[0;34m,\u001b[0m \u001b[0mname\u001b[0m\u001b[0;34m:\u001b[0m \u001b[0mstr\u001b[0m\u001b[0;34m,\u001b[0m \u001b[0mvalue\u001b[0m\u001b[0;34m)\u001b[0m \u001b[0;34m->\u001b[0m \u001b[0;32mNone\u001b[0m\u001b[0;34m:\u001b[0m\u001b[0;34m\u001b[0m\u001b[0;34m\u001b[0m\u001b[0m\n",
      "\u001b[0;31mAttributeError\u001b[0m: 'DataFrame' object has no attribute 'to_frame'"
     ]
    }
   ],
   "source": [
    "agg_donations = agg_don.to_frame()\n",
    "agg_donations"
   ]
  },
  {
   "cell_type": "code",
   "execution_count": null,
   "id": "2a8262eb",
   "metadata": {},
   "outputs": [],
   "source": [
    "print(agg_donations)"
   ]
  },
  {
   "cell_type": "markdown",
   "id": "33b8bd4a",
   "metadata": {},
   "source": [
    "Combining donation and email data, since both are on the same frequency"
   ]
  },
  {
   "cell_type": "code",
   "execution_count": null,
   "id": "ee4fe74e",
   "metadata": {},
   "outputs": [],
   "source": [
    "for user, user_email in all_email.groupby('user'):\n",
    "    user_donations = agg_donations[agg_donations.user == user]\n",
    "    \n",
    "    user_donations.set_index('timestamp', inplace = True)\n",
    "    user_email.set_index    ('week', inplace = True)\n",
    "    \n",
    "    user_email = all_email[all_email.user == user]\n",
    "    user_email.sort_values('week').set_index('week')\n",
    "    \n",
    "    df = pd.merge(user_email, user_donations, how = 'left',\n",
    "                 left_index = True,\n",
    "                 right_index = True)\n",
    "    \n",
    "    df.fillna(0)\n",
    "    \n",
    "    df['user'] = df.user_x\n",
    "    merged_df = merged_df.append(df.reset_index()\n",
    "                                [['user', 'week', 'emailsOpened', 'amount']])"
   ]
  },
  {
   "cell_type": "code",
   "execution_count": null,
   "id": "a4a759cb",
   "metadata": {},
   "outputs": [],
   "source": []
  }
 ],
 "metadata": {
  "kernelspec": {
   "display_name": "Python 3 (ipykernel)",
   "language": "python",
   "name": "python3"
  },
  "language_info": {
   "codemirror_mode": {
    "name": "ipython",
    "version": 3
   },
   "file_extension": ".py",
   "mimetype": "text/x-python",
   "name": "python",
   "nbconvert_exporter": "python",
   "pygments_lexer": "ipython3",
   "version": "3.9.13"
  }
 },
 "nbformat": 4,
 "nbformat_minor": 5
}
