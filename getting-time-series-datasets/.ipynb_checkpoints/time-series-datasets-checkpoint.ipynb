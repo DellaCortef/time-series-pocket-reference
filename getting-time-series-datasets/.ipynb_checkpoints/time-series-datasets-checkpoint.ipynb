{
 "cells": [
  {
   "cell_type": "markdown",
   "id": "6ee1f475",
   "metadata": {},
   "source": [
    "### Importing Libs"
   ]
  },
  {
   "cell_type": "code",
   "execution_count": 10,
   "id": "6ce57481",
   "metadata": {},
   "outputs": [],
   "source": [
    "import pandas as pd"
   ]
  },
  {
   "cell_type": "markdown",
   "id": "e871ca07",
   "metadata": {},
   "source": [
    "### Donations dataset\n",
    "Set consisting of three CSVs:\n",
    "- donations;\n",
    "- year of membership;\n",
    "- emails read;\n",
    "\n",
    "---> analyzing whether the member status is annual or just the most recent;\n",
    "\n",
    "---> analyzing the email table to understand the timestamp of the 'week' column;"
   ]
  },
  {
   "cell_type": "markdown",
   "id": "a86f69ac",
   "metadata": {},
   "source": [
    "#### Exploratory Data Analysis"
   ]
  },
  {
   "cell_type": "code",
   "execution_count": 9,
   "id": "8b366723",
   "metadata": {},
   "outputs": [
    {
     "data": {
      "text/html": [
       "<div>\n",
       "<style scoped>\n",
       "    .dataframe tbody tr th:only-of-type {\n",
       "        vertical-align: middle;\n",
       "    }\n",
       "\n",
       "    .dataframe tbody tr th {\n",
       "        vertical-align: top;\n",
       "    }\n",
       "\n",
       "    .dataframe thead th {\n",
       "        text-align: right;\n",
       "    }\n",
       "</style>\n",
       "<table border=\"1\" class=\"dataframe\">\n",
       "  <thead>\n",
       "    <tr style=\"text-align: right;\">\n",
       "      <th></th>\n",
       "      <th>yearJoined</th>\n",
       "    </tr>\n",
       "    <tr>\n",
       "      <th>userStats</th>\n",
       "      <th></th>\n",
       "    </tr>\n",
       "  </thead>\n",
       "  <tbody>\n",
       "    <tr>\n",
       "      <th>1</th>\n",
       "      <td>1000</td>\n",
       "    </tr>\n",
       "  </tbody>\n",
       "</table>\n",
       "</div>"
      ],
      "text/plain": [
       "           yearJoined\n",
       "userStats            \n",
       "1                1000"
      ]
     },
     "execution_count": 9,
     "metadata": {},
     "output_type": "execute_result"
    }
   ],
   "source": [
    "year_joined = pd.read_csv(\"/Users/dellacorte/py-projects/data-science/time-series-pocket-reference/getting-time-series-datasets/datasets/year_joined.csv\")\n",
    "\n",
    "# analyzing whether the member status is annual or just the most recent\n",
    "year_joined.groupby(\"user\").count().groupby(\"userStats\").count()"
   ]
  },
  {
   "cell_type": "markdown",
   "id": "10c349bf",
   "metadata": {},
   "source": [
    "Checking the thousand records, they only have one status, so the year they joined will probably be yearJoined, accompanied by a status that could be the current status or when they joined."
   ]
  },
  {
   "cell_type": "code",
   "execution_count": 12,
   "id": "6156d9b2",
   "metadata": {},
   "outputs": [
    {
     "data": {
      "text/html": [
       "<div>\n",
       "<style scoped>\n",
       "    .dataframe tbody tr th:only-of-type {\n",
       "        vertical-align: middle;\n",
       "    }\n",
       "\n",
       "    .dataframe tbody tr th {\n",
       "        vertical-align: top;\n",
       "    }\n",
       "\n",
       "    .dataframe thead th {\n",
       "        text-align: right;\n",
       "    }\n",
       "</style>\n",
       "<table border=\"1\" class=\"dataframe\">\n",
       "  <thead>\n",
       "    <tr style=\"text-align: right;\">\n",
       "      <th></th>\n",
       "      <th>emailsOpened</th>\n",
       "      <th>user</th>\n",
       "      <th>week</th>\n",
       "    </tr>\n",
       "  </thead>\n",
       "  <tbody>\n",
       "  </tbody>\n",
       "</table>\n",
       "</div>"
      ],
      "text/plain": [
       "Empty DataFrame\n",
       "Columns: [emailsOpened, user, week]\n",
       "Index: []"
      ]
     },
     "execution_count": 12,
     "metadata": {},
     "output_type": "execute_result"
    }
   ],
   "source": [
    "# analyzing the email table to understand the timestamp of the 'week' column\n",
    "email = pd.read_csv(\"/Users/dellacorte/py-projects/data-science/time-series-pocket-reference/getting-time-series-datasets/datasets/emails.csv\")\n",
    "# email.head()\n",
    "\n",
    "empty_emails = email[email.emailsOpened < 1]\n",
    "empty_emails"
   ]
  },
  {
   "cell_type": "markdown",
   "id": "a9f37007",
   "metadata": {},
   "source": [
    "There is a possibility that null weeks are not depicted in the table or members always have at least one email event. It's difficult to accept the possibility of always having an email event, so to do this, we can analyze the history of just one user:"
   ]
  },
  {
   "cell_type": "code",
   "execution_count": null,
   "id": "6ea57cb0",
   "metadata": {},
   "outputs": [],
   "source": []
  }
 ],
 "metadata": {
  "kernelspec": {
   "display_name": "Python 3 (ipykernel)",
   "language": "python",
   "name": "python3"
  },
  "language_info": {
   "codemirror_mode": {
    "name": "ipython",
    "version": 3
   },
   "file_extension": ".py",
   "mimetype": "text/x-python",
   "name": "python",
   "nbconvert_exporter": "python",
   "pygments_lexer": "ipython3",
   "version": "3.9.13"
  }
 },
 "nbformat": 4,
 "nbformat_minor": 5
}
