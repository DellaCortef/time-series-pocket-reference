{
 "cells": [
  {
   "cell_type": "markdown",
   "id": "4ef94408",
   "metadata": {},
   "source": [
    "### Importing Libs"
   ]
  },
  {
   "cell_type": "code",
   "execution_count": 7,
   "id": "d253ffbe",
   "metadata": {},
   "outputs": [],
   "source": [
    "import pytz\n",
    "import datetime\n",
    "import pandas as pd"
   ]
  },
  {
   "cell_type": "markdown",
   "id": "9a9a3021",
   "metadata": {},
   "source": [
    "When we retrieve *.now()* from the **datetime** module, it does not come with time zone information. Let's observe the difference in the returns for *.now()* and *.utcnow()*"
   ]
  },
  {
   "cell_type": "code",
   "execution_count": 8,
   "id": "9022a27a",
   "metadata": {},
   "outputs": [
    {
     "data": {
      "text/plain": [
       "datetime.datetime(2024, 10, 8, 20, 13, 59, 173198)"
      ]
     },
     "execution_count": 8,
     "metadata": {},
     "output_type": "execute_result"
    }
   ],
   "source": [
    "datetime.datetime.utcnow()"
   ]
  },
  {
   "cell_type": "code",
   "execution_count": 9,
   "id": "61506e50",
   "metadata": {},
   "outputs": [
    {
     "data": {
      "text/plain": [
       "datetime.datetime(2024, 10, 8, 17, 13, 59, 404950)"
      ]
     },
     "execution_count": 9,
     "metadata": {},
     "output_type": "execute_result"
    }
   ],
   "source": [
    "datetime.datetime.now()"
   ]
  },
  {
   "cell_type": "code",
   "execution_count": 10,
   "id": "cec6a702",
   "metadata": {},
   "outputs": [
    {
     "data": {
      "text/plain": [
       "datetime.datetime(2024, 10, 8, 20, 13, 59, 697707, tzinfo=datetime.timezone.utc)"
      ]
     },
     "execution_count": 10,
     "metadata": {},
     "output_type": "execute_result"
    }
   ],
   "source": [
    "datetime.datetime.now(datetime.timezone.utc)"
   ]
  },
  {
   "cell_type": "markdown",
   "id": "2404eb3f",
   "metadata": {},
   "source": [
    "Note that if we pass in a time zone we will get the correct information, but this is not the default behavior. To work with time zones in Python, we will create a time zone object, such as *brasilia* for Brazil's time zone"
   ]
  },
  {
   "cell_type": "code",
   "execution_count": 13,
   "id": "132ac4c8",
   "metadata": {},
   "outputs": [
    {
     "data": {
      "text/plain": [
       "'America/Sao_Paulo'"
      ]
     },
     "execution_count": 13,
     "metadata": {},
     "output_type": "execute_result"
    }
   ],
   "source": [
    "brasilia = pytz.timezone('America/Sao_Paulo')\n",
    "brasilia.zone"
   ]
  },
  {
   "cell_type": "markdown",
   "id": "53d5e509",
   "metadata": {},
   "source": [
    "We can then use these objects to locate a time zone as follows:\n",
    "\n",
    "- The API offers two ways to construct a time zone-aware time: \n",
    "    - through *locate*\n",
    "    - convert a time zone from one location to another"
   ]
  },
  {
   "cell_type": "code",
   "execution_count": 16,
   "id": "3b1e1c20",
   "metadata": {},
   "outputs": [
    {
     "data": {
      "text/plain": [
       "datetime.datetime(2024, 10, 8, 20, 13, 59, 697707, tzinfo=<DstTzInfo 'America/Sao_Paulo' -03-1 day, 21:00:00 STD>)"
      ]
     },
     "execution_count": 16,
     "metadata": {},
     "output_type": "execute_result"
    }
   ],
   "source": [
    "loc_dt = brasilia.localize(datetime.datetime(2024, 10, 8, 20, 13, 59, 697707))\n",
    "loc_dt"
   ]
  },
  {
   "cell_type": "code",
   "execution_count": null,
   "id": "08188aae",
   "metadata": {},
   "outputs": [],
   "source": []
  }
 ],
 "metadata": {
  "kernelspec": {
   "display_name": "Python 3 (ipykernel)",
   "language": "python",
   "name": "python3"
  },
  "language_info": {
   "codemirror_mode": {
    "name": "ipython",
    "version": 3
   },
   "file_extension": ".py",
   "mimetype": "text/x-python",
   "name": "python",
   "nbconvert_exporter": "python",
   "pygments_lexer": "ipython3",
   "version": "3.9.13"
  }
 },
 "nbformat": 4,
 "nbformat_minor": 5
}
