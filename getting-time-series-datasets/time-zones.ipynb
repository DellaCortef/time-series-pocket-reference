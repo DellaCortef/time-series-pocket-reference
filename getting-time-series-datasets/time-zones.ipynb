{
 "cells": [
  {
   "cell_type": "markdown",
   "id": "c5c7b5bf",
   "metadata": {},
   "source": [
    "### Importing Libs"
   ]
  },
  {
   "cell_type": "code",
   "execution_count": 7,
   "id": "4789b765",
   "metadata": {},
   "outputs": [],
   "source": [
    "import pytz\n",
    "import datetime\n",
    "import pandas as pd"
   ]
  },
  {
   "cell_type": "markdown",
   "id": "fa08f943",
   "metadata": {},
   "source": [
    "When we retrieve *.now()* from the **datetime** module, it does not come with time zone information. Let's observe the difference in the returns for *.now()* and *.utcnow()*"
   ]
  },
  {
   "cell_type": "code",
   "execution_count": 8,
   "id": "4940edbd",
   "metadata": {},
   "outputs": [
    {
     "data": {
      "text/plain": [
       "datetime.datetime(2024, 10, 8, 20, 13, 59, 173198)"
      ]
     },
     "execution_count": 8,
     "metadata": {},
     "output_type": "execute_result"
    }
   ],
   "source": [
    "datetime.datetime.utcnow()"
   ]
  },
  {
   "cell_type": "code",
   "execution_count": 9,
   "id": "afd1238e",
   "metadata": {},
   "outputs": [
    {
     "data": {
      "text/plain": [
       "datetime.datetime(2024, 10, 8, 17, 13, 59, 404950)"
      ]
     },
     "execution_count": 9,
     "metadata": {},
     "output_type": "execute_result"
    }
   ],
   "source": [
    "datetime.datetime.now()"
   ]
  },
  {
   "cell_type": "code",
   "execution_count": 10,
   "id": "71ee2e8a",
   "metadata": {},
   "outputs": [
    {
     "data": {
      "text/plain": [
       "datetime.datetime(2024, 10, 8, 20, 13, 59, 697707, tzinfo=datetime.timezone.utc)"
      ]
     },
     "execution_count": 10,
     "metadata": {},
     "output_type": "execute_result"
    }
   ],
   "source": [
    "datetime.datetime.now(datetime.timezone.utc)"
   ]
  },
  {
   "cell_type": "markdown",
   "id": "92593e10",
   "metadata": {},
   "source": [
    "Note that if we pass in a time zone we will get the correct information, but this is not the default behavior. To work with time zones in Python, we will create a time zone object, such as *brasilia* for Brazil's time zone"
   ]
  },
  {
   "cell_type": "code",
   "execution_count": 13,
   "id": "b71e2d90",
   "metadata": {},
   "outputs": [
    {
     "data": {
      "text/plain": [
       "'America/Sao_Paulo'"
      ]
     },
     "execution_count": 13,
     "metadata": {},
     "output_type": "execute_result"
    }
   ],
   "source": [
    "brasilia = pytz.timezone('America/Sao_Paulo')\n",
    "brasilia.zone"
   ]
  },
  {
   "cell_type": "markdown",
   "id": "12ed0f17",
   "metadata": {},
   "source": [
    "We can then use these objects to locate a time zone as follows:\n",
    "\n",
    "- The API offers two ways to construct a time zone-aware time: \n",
    "    - through *locate*\n",
    "    - convert a time zone from one location to another"
   ]
  },
  {
   "cell_type": "code",
   "execution_count": 16,
   "id": "4468dc7e",
   "metadata": {},
   "outputs": [
    {
     "data": {
      "text/plain": [
       "datetime.datetime(2024, 10, 8, 20, 13, 59, 697707, tzinfo=<DstTzInfo 'America/Sao_Paulo' -03-1 day, 21:00:00 STD>)"
      ]
     },
     "execution_count": 16,
     "metadata": {},
     "output_type": "execute_result"
    }
   ],
   "source": [
    "loc_dt = brasilia.localize(datetime.datetime(2024, 10, 8, 20, 13, 59, 697707))\n",
    "loc_dt"
   ]
  },
  {
   "cell_type": "markdown",
   "id": "cec09e28",
   "metadata": {},
   "source": [
    "We can see that passing the time zone directly to the **datetime** constructor generally does not generate the result we expect:"
   ]
  },
  {
   "cell_type": "code",
   "execution_count": 17,
   "id": "3b781159",
   "metadata": {},
   "outputs": [],
   "source": [
    "london_tz = pytz.timezone('Europe/London')\n",
    "\n",
    "london_dt = loc_dt.astimezone(london_tz)"
   ]
  },
  {
   "cell_type": "code",
   "execution_count": 18,
   "id": "2ac7a835",
   "metadata": {},
   "outputs": [
    {
     "data": {
      "text/plain": [
       "datetime.datetime(2024, 10, 9, 0, 13, 59, 697707, tzinfo=<DstTzInfo 'Europe/London' BST+1:00:00 DST>)"
      ]
     },
     "execution_count": 18,
     "metadata": {},
     "output_type": "execute_result"
    }
   ],
   "source": [
    "london_dt"
   ]
  },
  {
   "cell_type": "code",
   "execution_count": 19,
   "id": "84e9b07b",
   "metadata": {},
   "outputs": [],
   "source": [
    "f = '%Y-%m-%d %H-%M-%S %Z%z'"
   ]
  },
  {
   "cell_type": "code",
   "execution_count": 20,
   "id": "96614ec4",
   "metadata": {},
   "outputs": [
    {
     "data": {
      "text/plain": [
       "'2024-10-08 20-13-59 LMT-0001'"
      ]
     },
     "execution_count": 20,
     "metadata": {},
     "output_type": "execute_result"
    }
   ],
   "source": [
    "datetime.datetime(2024, 10, 8, 20, 13, 59,\n",
    "                 tzinfo = london_tz).strftime(f)"
   ]
  },
  {
   "cell_type": "markdown",
   "id": "8631e71e",
   "metadata": {},
   "source": [
    "As highlighted in the documentation, **pytz** using the datetime.datetime initializer tzinfo does not always lead to the desired result, as in the London example.\n",
    "\n",
    "According to the documentation, this method leads to desired results in time zones without DST."
   ]
  },
  {
   "cell_type": "markdown",
   "id": "55cca173",
   "metadata": {},
   "source": [
    "#### Time Delta\n",
    "In general, we want to store data in UTC and convert only when generating readable output for users. In the first example, we received a wrong result because the time zones were not labeled correctly"
   ]
  },
  {
   "cell_type": "code",
   "execution_count": 22,
   "id": "7790dc01",
   "metadata": {},
   "outputs": [
    {
     "data": {
      "text/plain": [
       "datetime.timedelta(days=1, seconds=300)"
      ]
     },
     "execution_count": 22,
     "metadata": {},
     "output_type": "execute_result"
    }
   ],
   "source": [
    "event1 = datetime.datetime(2018, 5, 12, 12, 15, 0,\n",
    "                          tzinfo = london_tz)\n",
    "\n",
    "event2 = datetime.datetime(2018, 5, 13, 9, 15, 0,\n",
    "                          tzinfo = brasilia)\n",
    "\n",
    "event2 - event1"
   ]
  },
  {
   "cell_type": "code",
   "execution_count": 23,
   "id": "8682c1f8",
   "metadata": {},
   "outputs": [
    {
     "data": {
      "text/plain": [
       "datetime.timedelta(days=1, seconds=3600)"
      ]
     },
     "execution_count": 23,
     "metadata": {},
     "output_type": "execute_result"
    }
   ],
   "source": [
    "event3 = london_tz.localize(\n",
    "    datetime.datetime(2018, 5, 12, 12, 15, 0))\n",
    "\n",
    "event4 = brasilia.localize(\n",
    "    datetime.datetime(2018, 5, 13, 9, 15, 0))\n",
    "\n",
    "event4 - event3"
   ]
  },
  {
   "cell_type": "code",
   "execution_count": 24,
   "id": "a4ff2ed2",
   "metadata": {},
   "outputs": [
    {
     "data": {
      "text/plain": [
       "datetime.timedelta(days=1, seconds=3600)"
      ]
     },
     "execution_count": 24,
     "metadata": {},
     "output_type": "execute_result"
    }
   ],
   "source": [
    "event5 = london_tz.localize(\n",
    "    (datetime.datetime(2018, 5, 12, 12, 15, 0))).astimezone(datetime.timezone.utc)\n",
    "\n",
    "event6 = brasilia.localize(\n",
    "    (datetime.datetime(2018, 5, 13, 9, 15, 0))).astimezone(datetime.timezone.utc)\n",
    "\n",
    "event6 - event5"
   ]
  },
  {
   "cell_type": "code",
   "execution_count": null,
   "id": "a64279ea",
   "metadata": {},
   "outputs": [],
   "source": []
  }
 ],
 "metadata": {
  "kernelspec": {
   "display_name": "Python 3 (ipykernel)",
   "language": "python",
   "name": "python3"
  },
  "language_info": {
   "codemirror_mode": {
    "name": "ipython",
    "version": 3
   },
   "file_extension": ".py",
   "mimetype": "text/x-python",
   "name": "python",
   "nbconvert_exporter": "python",
   "pygments_lexer": "ipython3",
   "version": "3.9.13"
  }
 },
 "nbformat": 4,
 "nbformat_minor": 5
}
