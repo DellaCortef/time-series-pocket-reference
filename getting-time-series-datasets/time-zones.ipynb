{
 "cells": [
  {
   "cell_type": "markdown",
   "id": "f6b750a1",
   "metadata": {},
   "source": [
    "### Importing Libs"
   ]
  },
  {
   "cell_type": "code",
   "execution_count": 7,
   "id": "f93a5f08",
   "metadata": {},
   "outputs": [],
   "source": [
    "import pytz\n",
    "import datetime\n",
    "import pandas as pd"
   ]
  },
  {
   "cell_type": "markdown",
   "id": "cb7a4a6d",
   "metadata": {},
   "source": [
    "When we retrieve *.now()* from the **datetime** module, it does not come with time zone information. Let's observe the difference in the returns for *.now()* and *.utcnow()*"
   ]
  },
  {
   "cell_type": "code",
   "execution_count": 8,
   "id": "e7b24745",
   "metadata": {},
   "outputs": [
    {
     "data": {
      "text/plain": [
       "datetime.datetime(2024, 10, 8, 20, 13, 59, 173198)"
      ]
     },
     "execution_count": 8,
     "metadata": {},
     "output_type": "execute_result"
    }
   ],
   "source": [
    "datetime.datetime.utcnow()"
   ]
  },
  {
   "cell_type": "code",
   "execution_count": 9,
   "id": "76ccea7d",
   "metadata": {},
   "outputs": [
    {
     "data": {
      "text/plain": [
       "datetime.datetime(2024, 10, 8, 17, 13, 59, 404950)"
      ]
     },
     "execution_count": 9,
     "metadata": {},
     "output_type": "execute_result"
    }
   ],
   "source": [
    "datetime.datetime.now()"
   ]
  },
  {
   "cell_type": "code",
   "execution_count": 10,
   "id": "0d803bd6",
   "metadata": {},
   "outputs": [
    {
     "data": {
      "text/plain": [
       "datetime.datetime(2024, 10, 8, 20, 13, 59, 697707, tzinfo=datetime.timezone.utc)"
      ]
     },
     "execution_count": 10,
     "metadata": {},
     "output_type": "execute_result"
    }
   ],
   "source": [
    "datetime.datetime.now(datetime.timezone.utc)"
   ]
  },
  {
   "cell_type": "markdown",
   "id": "9fc3825f",
   "metadata": {},
   "source": [
    "Note that if we pass in a time zone we will get the correct information, but this is not the default behavior. To work with time zones in Python, we will create a time zone object, such as *brasilia* for Brazil's time zone"
   ]
  },
  {
   "cell_type": "code",
   "execution_count": 13,
   "id": "f968697c",
   "metadata": {},
   "outputs": [
    {
     "data": {
      "text/plain": [
       "'America/Sao_Paulo'"
      ]
     },
     "execution_count": 13,
     "metadata": {},
     "output_type": "execute_result"
    }
   ],
   "source": [
    "brasilia = pytz.timezone('America/Sao_Paulo')\n",
    "brasilia.zone"
   ]
  },
  {
   "cell_type": "markdown",
   "id": "4fe57428",
   "metadata": {},
   "source": [
    "We can then use these objects to locate a time zone as follows:\n",
    "\n",
    "- The API offers two ways to construct a time zone-aware time: \n",
    "    - through *locate*\n",
    "    - convert a time zone from one location to another"
   ]
  },
  {
   "cell_type": "code",
   "execution_count": 16,
   "id": "fb1b6e0a",
   "metadata": {},
   "outputs": [
    {
     "data": {
      "text/plain": [
       "datetime.datetime(2024, 10, 8, 20, 13, 59, 697707, tzinfo=<DstTzInfo 'America/Sao_Paulo' -03-1 day, 21:00:00 STD>)"
      ]
     },
     "execution_count": 16,
     "metadata": {},
     "output_type": "execute_result"
    }
   ],
   "source": [
    "loc_dt = brasilia.localize(datetime.datetime(2024, 10, 8, 20, 13, 59, 697707))\n",
    "loc_dt"
   ]
  },
  {
   "cell_type": "markdown",
   "id": "463c3d51",
   "metadata": {},
   "source": [
    "We can see that passing the time zone directly to the **datetime** constructor generally does not generate the result we expect:"
   ]
  },
  {
   "cell_type": "code",
   "execution_count": 17,
   "id": "77f447e0",
   "metadata": {},
   "outputs": [],
   "source": [
    "london_tz = pytz.timezone('Europe/London')\n",
    "\n",
    "london_dt = loc_dt.astimezone(london_tz)"
   ]
  },
  {
   "cell_type": "code",
   "execution_count": 18,
   "id": "7d3f2468",
   "metadata": {},
   "outputs": [
    {
     "data": {
      "text/plain": [
       "datetime.datetime(2024, 10, 9, 0, 13, 59, 697707, tzinfo=<DstTzInfo 'Europe/London' BST+1:00:00 DST>)"
      ]
     },
     "execution_count": 18,
     "metadata": {},
     "output_type": "execute_result"
    }
   ],
   "source": [
    "london_dt"
   ]
  },
  {
   "cell_type": "code",
   "execution_count": 19,
   "id": "38f54ded",
   "metadata": {},
   "outputs": [],
   "source": [
    "f = '%Y-%m-%d %H-%M-%S %Z%z'"
   ]
  },
  {
   "cell_type": "code",
   "execution_count": 20,
   "id": "d9e84022",
   "metadata": {},
   "outputs": [
    {
     "data": {
      "text/plain": [
       "'2024-10-08 20-13-59 LMT-0001'"
      ]
     },
     "execution_count": 20,
     "metadata": {},
     "output_type": "execute_result"
    }
   ],
   "source": [
    "datetime.datetime(2024, 10, 8, 20, 13, 59,\n",
    "                 tzinfo = london_tz).strftime(f)"
   ]
  },
  {
   "cell_type": "code",
   "execution_count": null,
   "id": "c08ff0cb",
   "metadata": {},
   "outputs": [],
   "source": []
  }
 ],
 "metadata": {
  "kernelspec": {
   "display_name": "Python 3 (ipykernel)",
   "language": "python",
   "name": "python3"
  },
  "language_info": {
   "codemirror_mode": {
    "name": "ipython",
    "version": 3
   },
   "file_extension": ".py",
   "mimetype": "text/x-python",
   "name": "python",
   "nbconvert_exporter": "python",
   "pygments_lexer": "ipython3",
   "version": "3.9.13"
  }
 },
 "nbformat": 4,
 "nbformat_minor": 5
}
