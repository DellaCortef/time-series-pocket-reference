{
 "cells": [
  {
   "cell_type": "markdown",
   "id": "047418be",
   "metadata": {},
   "source": [
    "# Simulating Time Series Data"
   ]
  },
  {
   "cell_type": "markdown",
   "id": "731cec94",
   "metadata": {},
   "source": [
    "For now, we've seen where to find **time series** data and how to process it. Now let's look at how to create **time series** data through simulation. \n",
    "\n",
    "We will divide it into 3 parts. In the first, we will compare **time series** data simulations with other types of data simulations, seeing which specific new areas of interest come to light when considering the passage of time. In the second part, we will look at some code-based simulations. Finally, in the third part, we will analyze some general trends in **time series** simulations."
   ]
  },
  {
   "cell_type": "markdown",
   "id": "13ff7796",
   "metadata": {},
   "source": [
    "Specific examples for generating different types of **time series** data:\n",
    "- we will simulate the email opening and donation behavior of members of a non-profit organization over several years;\n",
    "- we will simulate events in a taxi fleet of a thousand vehicles with various shift start times and passenger boarding frequencies;\n",
    "- we will simulate step by step the evolution of the magnetic state of a solid at a given temperature and size using the relevant laws of physics;"
   ]
  },
  {
   "cell_type": "markdown",
   "id": "8850241d",
   "metadata": {},
   "source": [
    "These three examples correlate to three classes of **time series** simulations:\n",
    "- *heuristic simulations:*\n",
    "    - we decide how the world should work, ensuring logic and coding, rule by rule;\n",
    "- *discrete event simulations (SED):*\n",
    "    - we will create individual actors that follow certain rules in our universe and then implement these actors to see how the universe evolves over time;\n",
    "- *simulations based on laws of physics:*\n",
    "    - we will apply the laws of physics to see how a system evolves over time;"
   ]
  },
  {
   "cell_type": "code",
   "execution_count": null,
   "id": "f6049b5d",
   "metadata": {},
   "outputs": [],
   "source": []
  }
 ],
 "metadata": {
  "kernelspec": {
   "display_name": "Python 3 (ipykernel)",
   "language": "python",
   "name": "python3"
  },
  "language_info": {
   "codemirror_mode": {
    "name": "ipython",
    "version": 3
   },
   "file_extension": ".py",
   "mimetype": "text/x-python",
   "name": "python",
   "nbconvert_exporter": "python",
   "pygments_lexer": "ipython3",
   "version": "3.9.13"
  }
 },
 "nbformat": 4,
 "nbformat_minor": 5
}
