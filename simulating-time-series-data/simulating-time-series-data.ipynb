{
 "cells": [
  {
   "cell_type": "markdown",
   "id": "09cccd59",
   "metadata": {},
   "source": [
    "# Simulating Time Series Data"
   ]
  },
  {
   "cell_type": "markdown",
   "id": "60629879",
   "metadata": {},
   "source": [
    "For now, we've seen where to find **time series** data and how to process it. Now let's look at how to create **time series** data through simulation. \n",
    "\n",
    "We will divide it into 3 parts. In the first, we will compare **time series** data simulations with other types of data simulations, seeing which specific new areas of interest come to light when considering the passage of time. In the second part, we will look at some code-based simulations. Finally, in the third part, we will analyze some general trends in **time series** simulations."
   ]
  },
  {
   "cell_type": "markdown",
   "id": "c5bb2906",
   "metadata": {},
   "source": [
    "Specific examples for generating different types of **time series** data:\n",
    "- we will simulate the email opening and donation behavior of members of a non-profit organization over several years;\n",
    "- we will simulate events in a taxi fleet of a thousand vehicles with various shift start times and passenger boarding frequencies;\n",
    "- we will simulate step by step the evolution of the magnetic state of a solid at a given temperature and size using the relevant laws of physics;"
   ]
  },
  {
   "cell_type": "markdown",
   "id": "9746b2de",
   "metadata": {},
   "source": [
    "These three examples correlate to three classes of **time series** simulations:\n",
    "- *heuristic simulations:*\n",
    "    - we decide how the world should work, ensuring logic and coding, rule by rule;\n",
    "- *discrete event simulations (SED):*\n",
    "    - we will create individual actors that follow certain rules in our universe and then implement these actors to see how the universe evolves over time;\n",
    "- *simulations based on laws of physics:*\n",
    "    - we will apply the laws of physics to see how a system evolves over time;"
   ]
  },
  {
   "cell_type": "markdown",
   "id": "e0fa7907",
   "metadata": {},
   "source": [
    "### Why is Time Series Simulation Special?\n",
    "\n",
    "Data simulation is an area of ​​Data Science that is rarely taught despite being an essential skill for **time series** data. This is one of the negative aspects of temporal data: no two data points in the same time series are exactly comparable, as these points occur at different times. If we want to think about *what could have happened in a given time*, we enter the world of simulation."
   ]
  },
  {
   "cell_type": "markdown",
   "id": "65dd191b",
   "metadata": {},
   "source": [
    "### Simulation versus Prediction\n",
    "\n",
    "Simulation and forecasting are similar practices. In both, we must formulate hypotheses about the dynamics and parameters of the underlying system and then extrapolate from these hypotheses in order to generate data points. However, there are important differences to consider when learning and developing simulations rather than predictions:\n",
    "- it may be easier to integrate qualitative observations into a simulation than into a prediction;\n",
    "- simulations are run at scale, so that we can analyze several alternative scenarios, while forecasts must be generated with more care;\n",
    "- the risks of simulations are lower than predictions, as there are no lives or resources at stake. Therefore, you can be more creative and exploratory in your initial rounds of simulations. Obviously, sooner or later, you want to be sure that you can justify how you build your simulations, just as you justify your predictions."
   ]
  },
  {
   "cell_type": "markdown",
   "id": "e604041a",
   "metadata": {},
   "source": [
    "### Installing Libs"
   ]
  },
  {
   "cell_type": "code",
   "execution_count": 1,
   "id": "326c4730",
   "metadata": {},
   "outputs": [],
   "source": [
    "import queue\n",
    "import numpy as np\n",
    "import pandas as pd\n",
    "from dataclasses import dataclass"
   ]
  },
  {
   "cell_type": "markdown",
   "id": "8c845d15",
   "metadata": {},
   "source": [
    "#### Doing it ourselves\n",
    "\n",
    "In this case of simulation, we will do the simulation ourselves, ensuring that we do not specify an illogical order"
   ]
  },
  {
   "cell_type": "code",
   "execution_count": 2,
   "id": "1223360d",
   "metadata": {},
   "outputs": [
    {
     "data": {
      "text/plain": [
       "(    yearJoined\n",
       " 0         2016\n",
       " 1         2017\n",
       " 2         2017\n",
       " 3         2016\n",
       " 4         2018\n",
       " ..         ...\n",
       " 995       2018\n",
       " 996       2015\n",
       " 997       2017\n",
       " 998       2018\n",
       " 999       2015\n",
       " \n",
       " [1000 rows x 1 columns],\n",
       "     userJoined\n",
       " 0       bronze\n",
       " 1       bronze\n",
       " 2       silver\n",
       " 3       bronze\n",
       " 4         gold\n",
       " ..         ...\n",
       " 995   inactive\n",
       " 996       gold\n",
       " 997     silver\n",
       " 998   inactive\n",
       " 999     silver\n",
       " \n",
       " [1000 rows x 1 columns])"
      ]
     },
     "execution_count": 2,
     "metadata": {},
     "output_type": "execute_result"
    }
   ],
   "source": [
    "# user status\n",
    "years      = ['2014', '2015', '2016', '2017', '2018']\n",
    "\n",
    "userStatus = ['bronze', 'silver', 'gold', 'inactive']\n",
    "\n",
    "userYears  = np.random.choice(years, 1000, \n",
    "                             p = [0.1, 0.1, 0.15, 0.30, 0.35])\n",
    "\n",
    "userStats  = np.random.choice(userStatus, 1000, \n",
    "                             p = [0.5, 0.3, 0.1, 0.1])\n",
    "\n",
    "yearJoined = pd.DataFrame({'yearJoined': userYears})\n",
    "\n",
    "userJoined = pd.DataFrame({'userJoined': userStats})\n",
    "\n",
    "yearJoined, userJoined"
   ]
  },
  {
   "cell_type": "markdown",
   "id": "14bdbb26",
   "metadata": {},
   "source": [
    "Note that there are already many rules/assumptions integrated into the simulation just in these lines of code. We stipulate probabilities specific to the years in which members joined. We also made the user's status completely independent of the year they joined."
   ]
  },
  {
   "cell_type": "markdown",
   "id": "bcbd0a7d",
   "metadata": {},
   "source": [
    "#### Doing it ourselves\n",
    "In the next step, we will create a table indicating when members opened emails each week. Here, we will define our organization's behavior: sending three emails per week. We will also define distinct patterns of user behavior in relation to email:\n",
    "- never opens the email;\n",
    "- constant level of engagement/email opening rate;\n",
    "- increase or decrease in the level of engagement."
   ]
  },
  {
   "cell_type": "code",
   "execution_count": 3,
   "id": "5318bbba",
   "metadata": {},
   "outputs": [],
   "source": [
    "NUM_EMAILS_SENT_WEEKLY = 3\n",
    "\n",
    "# defining multiple functions for different patterns\n",
    "def never_opens(period_rng):\n",
    "    return []\n",
    "\n",
    "def constant_open_rate(period_rng):\n",
    "    n, p = NUM_EMAILS_SENT_WEEKLY, np.random.uniform(0, 1)\n",
    "    num_opened = np.random.binomial(n, p, len(period_rng))\n",
    "    return num_opened\n",
    "\n",
    "def increasing_open_rate(period_rng):\n",
    "    return open_rate_with_factor_change(period_rng,\n",
    "                                        np.random.uniform(1.01, \n",
    "                                                          1.30))\n",
    "\n",
    "def decreasing_open_rate(period_rng):\n",
    "    return open_rate_with_factor_change(period_rng,\n",
    "                                       np.random.uniform(0.5,\n",
    "                                                         0.99))\n",
    "\n",
    "def open_rate_with_factor_change(period_rng, fac):\n",
    "    if len(period_rng) < 1:\n",
    "        return []\n",
    "    times = np.random.randit(0, len(period_rng),\n",
    "                             int(0.1 * len(period_rng)))\n",
    "    num_opened = np.zeros(len(period_rng))\n",
    "    for prd in range(0, len(period_rng), 2):\n",
    "        try:\n",
    "            n, p = NUM_EMAILS_SENT_WEEKLY, np.random.uniform(0, \n",
    "                                                             1)\n",
    "            num_opened[prd:(prd + 2)] = np.random.binomial(n, p,\n",
    "                                                           2)\n",
    "            p = max(min(1, p * fac), 0)\n",
    "        except:\n",
    "            num_opened[prd] = np.random.binomial(n, p, 1)\n",
    "    for t in range(len(times)):\n",
    "        num_opened[times[t]] = 0\n",
    "    return num_opened"
   ]
  },
  {
   "cell_type": "markdown",
   "id": "7fd5afd3",
   "metadata": {},
   "source": [
    "Definimos funções para simular quatro tipos distintos de comportamentos:\n",
    "\n",
    "*Usuários que nunca abrem os emails*\n",
    "- never_opens()\n",
    "\n",
    "*Usuários que abrem aproximadamente o mesmo número de emails todas as semanas*\n",
    "- constant_open_rate()\n",
    "\n",
    "*Usuários que abrem um número decrescente de emails a cada semana*\n",
    "- decreasing_open_rate()\n",
    "\n",
    "*Usuários que abrem um número crescente de emails a cada semana*\n",
    "- increasing_open_rate()\n",
    "\n",
    "\n",
    "We ensure that those with increasing interest or those who lose interest over time are simulated in the same way with the *open_rate_with_factor_change()* function via the *increasing_open_rate()* and *decreasing_open_rate()* functions\n",
    "\n",
    "It is also necessary to create a system to model donation behavior. We don't want to be too naive, or our siulation won't provide insight into what we should expect. In other words, we want to build our existing hypotheses about user behavior within the model, and then test whether simulations based on these hypotheses match what we see in real data. Next, we'll adopt an imprecise but non-deterministic donation behavior that relates to the number of emails a user has opened:"
   ]
  },
  {
   "cell_type": "code",
   "execution_count": 4,
   "id": "34e97cb2",
   "metadata": {},
   "outputs": [],
   "source": [
    "## donation behavior\n",
    "def produce_donations(period_rng, user_behavior, num_emails, \n",
    "                      user_id, user_join_year):\n",
    "    donation_amounts = np.array([0, 25, 50, 75, 100, 250, 500,\n",
    "                                  1000, 1500, 2000])\n",
    "    user_has = np.random.choice(donation_amounts)\n",
    "    email_fraction = num_emails / (NUM_EMAILS_SENT_WEEKLY * len(period_rng))\n",
    "    user_gives = user_has * email_fraction\n",
    "    user_gives_idx = max(min(user_gives_idx,\n",
    "                             len(donation_amounts) - 2),\n",
    "                        1)\n",
    "    num_times_gave = np.random.randint(0, len(period_rng), num_times_gave)\n",
    "    dons = pd.DataFrame({'user'      : [],\n",
    "                         'amount'    : [],\n",
    "                         'timestamp' : []})\n",
    "    for n in range(num_times_gave):\n",
    "        donation = donation_amounts[user_gives_idx + np.random.binomial(1, .3)]\n",
    "        ts       = str(period_rng[times[n]].start_time + random_weekly_time_delta())\n",
    "        dons     = dons.append(pd.DataFrame(\n",
    "                     {'user'      : [user_id],\n",
    "                      'amount'    : [donation],\n",
    "                      'timestamp' : [ts]}))\n",
    "        \n",
    "    if dons.shape[0] > 0:\n",
    "        dons = dons[dons.amount != 0]\n",
    "        ## We do not report the absence of a donation event,\n",
    "        ## as this would not be recorded in a database\n",
    "        \n",
    "    return dons\n",
    "        "
   ]
  },
  {
   "cell_type": "markdown",
   "id": "2d741f51",
   "metadata": {},
   "source": [
    "We follow some steps so that the code generates realistic behavior:\n",
    "- the total number of donations depends on how long someone has been a user;\n",
    "- we generate an ownership status per user, based on the behavioral hypothesis that the amount donated will be related to a stable amount that a person would have reserved to make donations;\n",
    "\n",
    "Since user behaviors are tied to specific *timestamps*, we will need to choose the weeks each user donated and during which period of that week they donated:"
   ]
  },
  {
   "cell_type": "code",
   "execution_count": 5,
   "id": "8847ca4e",
   "metadata": {},
   "outputs": [],
   "source": [
    "## utility function to choose a random time during the week\n",
    "def random_weekly_time_delta():\n",
    "    days_of_week     = [d for d in range(7)]\n",
    "    hours_of_day     = [h for h in range(11, 23)]\n",
    "    minute_of_hour   = [m for m in range(60)]\n",
    "    second_of_minute = [s for s in range(60)]\n",
    "    \n",
    "    return pd.Timedelta(str(np.random.choice(days_of_week)) + \"days\") + pd.Timedelta(str(np.random.choice(hours_of_day)) + \"hours\") + pd.Timedelta(str(np.random.choice(minute_of_hour)) + \"minutes\") + pd.Timedelta(str(np.random.choice(second_of_minute)) + \"seconds\")"
   ]
  },
  {
   "cell_type": "markdown",
   "id": "5d51585e",
   "metadata": {},
   "source": [
    "Now, we will group the components developed to simulate a certain number of users and associated events in order to ensure that the events only occur after a user joins, and that a user's email events have some relationship with the donation events:"
   ]
  },
  {
   "cell_type": "code",
   "execution_count": null,
   "id": "92c46bc8",
   "metadata": {},
   "outputs": [],
   "source": [
    "behaviors         = [never_opens,\n",
    "                     constant_open_rate,\n",
    "                     increasing_open_rate,\n",
    "                     decreasing_open_rate]\n",
    "user_behaviors    = np.random.choice(behaviors, 1000,\n",
    "                                    [0.2, 0.5, 0.1, 0.2])\n",
    "rng               = pd.period_range('2015-02-14', '2018-06-01', freq = 'W')\n",
    "emails            = pd.DataFrame({'user'       : [],\n",
    "                                  'amount'     : [],\n",
    "                                  'timestamp'  : []})\n",
    "donations         = pd.DataFrame({'user'       : [],\n",
    "                                  'amount'     : [],\n",
    "                                  'timestamp'  : []})\n",
    "\n",
    "for idx in range(yearJoined.shape[0]):\n",
    "    ## Randomly generates the date a user would have joined\n",
    "    join_date = pd.Timestamp(yearJoined.iloc[idx].yearJoined) + pd.Timedelta(str(np.random.randint(0, 365)) + 'days')\n",
    "    join_date = min(join_date, pd.Timestamp('2018-06-01'))\n",
    "    \n",
    "    ## User must not have current timestamps before joining\n",
    "    user_rng  = rng[rng > join_date]\n",
    "    \n",
    "    if len(user_rng) < 1:\n",
    "        continue\n",
    "    \n",
    "    info = user_behaviors[idx](user_rng)\n",
    "    if len(info) == len(user_rng):\n",
    "        emails = emails.append(pd.DataFrame({'user'        : [idx] * len(info),\n",
    "                                             'week'        : [str(r.start_time) for r in user_rng],\n",
    "                                             'emailsOpened': info}))\n",
    "        donations = donations.append(produce_donation(user_rng, user_behaviors[idx],\n",
    "                                                      sum(info), idx, join_date.year))"
   ]
  },
  {
   "cell_type": "markdown",
   "id": "efdd2f51",
   "metadata": {},
   "source": [
    "Next, we'll look at the temporal behavior of donations to get an idea of ​​how we can test this in future analysis or predictions. We will plot the total sum of donations we received for each month in the dataset:"
   ]
  },
  {
   "cell_type": "code",
   "execution_count": null,
   "id": "cf21312d",
   "metadata": {},
   "outputs": [],
   "source": [
    "df.set_index(pd.to_datetime(df.timestamp), implace = True)\n",
    "df.sort_index(inplace = True)\n",
    "df.groupby(pd.Grouper(freq = 'M')).amount.sum().plot()"
   ]
  },
  {
   "cell_type": "markdown",
   "id": "901c0c2b",
   "metadata": {},
   "source": [
    "#### Building a Self-Managed Simulation Universe\n",
    "\n",
    "Often, you have a specific system and want to define the rules for that system and see how it runs. In some cases, I would like to know as individual agents with their aggregated opinions over time. To do this, we can use *generators*\n",
    "\n",
    "*Generators* enable us to create a series of independent (or dependent) actors and again in order to observe what they do without a lot of *boilerplate* code to keep track of.\n",
    "\n",
    "In the next example, we will explore a taxi simulation. We want to imagine how a fleet of taxis, scheduled to start their shifts at different times, might behave together. To do this, we will need to create many individual taxis, release them into an imaginary city and make them relate their activities.\n",
    "\n",
    "We will start by trying to understand what a *generator* is in **Python**"
   ]
  },
  {
   "cell_type": "code",
   "execution_count": 6,
   "id": "545ea153",
   "metadata": {},
   "outputs": [],
   "source": [
    "def taxi_id_number(num_taxis):\n",
    "    arr = np.arange(num_taxis)\n",
    "    np.random.shuffle(arr)\n",
    "    for i in range(num_taxis):\n",
    "        yield arr[i]"
   ]
  },
  {
   "cell_type": "code",
   "execution_count": 7,
   "id": "fa071fd2",
   "metadata": {},
   "outputs": [
    {
     "name": "stdout",
     "output_type": "stream",
     "text": [
      "0\n",
      "8\n",
      "6\n"
     ]
    }
   ],
   "source": [
    "ids = taxi_id_number(10)\n",
    "print(next(ids))\n",
    "print(next(ids))\n",
    "print(next(ids))"
   ]
  },
  {
   "cell_type": "markdown",
   "id": "d50cba2d",
   "metadata": {},
   "source": [
    "This code will iterate until it generates ten numbers, when it will exit the *for* loop inside the generator and throw a *StopIteration* exception\n",
    "\n",
    "*taxi_id_number* generates single-use objects, all independent of each other, maintaining their own state. This is a generating function. Think of generators as mini-objects that maintain their own small package of state variables, which is useful when we want many objects parallel to each other, each taking care of its own variables.\n",
    "\n",
    "In the case of this simple taxi simulation, we compartmentalize our taxis into different shifts and also use a generator to signal the shifts. We schedule more taxis during the day than at night or on night shifts, setting different probabilities for starting a shift at a given time:"
   ]
  },
  {
   "cell_type": "code",
   "execution_count": 8,
   "id": "cedba6ac",
   "metadata": {},
   "outputs": [],
   "source": [
    "def shift_info():\n",
    "    start_times_and_freqs = [(0, 8), (8, 30), (16, 15)]\n",
    "    indices\n",
    "    while True:\n",
    "        idx   = np.random.choice(indices, p = [0.25, 0.5, 0.25])\n",
    "        start = start_times_and_freqs[idx]\n",
    "        yield (start[0], start[0] + 0.75, start[1])"
   ]
  },
  {
   "cell_type": "markdown",
   "id": "545231ac",
   "metadata": {},
   "source": [
    "*start_times_and_freqs* will be the first piece of code that will contribute to making this a **time series** simulation. We are indicating that different periods of the day have different probabilities of having a taxi assigned to the shift. Furthermore, different times of the day have a different average number of trips.\n",
    "\n",
    "Now we will create a more complex generator that will use the previous generators to define individual taxi parameters, as well as create individual taxi schedules:"
   ]
  },
  {
   "cell_type": "code",
   "execution_count": 9,
   "id": "466837b9",
   "metadata": {},
   "outputs": [],
   "source": [
    "def taxi_process(taxi_id_generator, shift_info_generator):\n",
    "    taxi_id = next(taxi_id_generator)\n",
    "    shift_start, shift_end, shift_mean_trips = next(shift_info_generator)\n",
    "    actual_trips = round(np.random.normal(loc = shift_mean_trips, scale = 2))\n",
    "    \n",
    "    # Converting average travel time to minutes\n",
    "    average_trip_time = 6.5 / shift_mean_trips * 60\n",
    "    \n",
    "    # Efficient city where taxis rarely stop running\n",
    "    between_events_time = 1.0 / (shift_mean_trips - 1) * 60\n",
    "    \n",
    "    time = shift_start\n",
    "    yield TimePoint(taxi_id, 'start_shift', time)\n",
    "    deltaT = np.random.poisson(between_events_time) / 60\n",
    "    time += deltaT\n",
    "    \n",
    "    for i in range(actual_trips):\n",
    "        yield TimePoint(taxi_id, 'pick up',  time)\n",
    "        deltaT = np.random.poisson(average_trip_time)   / 60\n",
    "        time += deltaT\n",
    "        yield TimePoint(taxi_id, 'drop off', time)\n",
    "        deltaT = np.random.poisson(between_events_time) / 60\n",
    "        time += deltaT\n",
    "    deltaT = np.random.poisson(between_events_time) / 60\n",
    "    time += deltaT\n",
    "    yield TimePoint(taxi_id, 'end_shift', time)"
   ]
  },
  {
   "cell_type": "markdown",
   "id": "475e94bd",
   "metadata": {},
   "source": [
    "In this function, the taxi accesses the generators in order to determine its identification number, shift start time and average number of trips for its start time. From there, he begins his own individual journey, as he makes a certain number of trips on his own timeline, generating them for the customer and calling the next one. In reality, this generator produces a **time series** of points for an individual taxi.\n",
    "\n",
    "The taxi generator generates *TimePoints*, defined as follows:"
   ]
  },
  {
   "cell_type": "code",
   "execution_count": 10,
   "id": "5df8d9d8",
   "metadata": {},
   "outputs": [],
   "source": [
    "@dataclass\n",
    "class TimePoint:\n",
    "    taxi_id: int\n",
    "    name:    str\n",
    "    time:    float\n",
    "\n",
    "    def __lt__(self, other):\n",
    "        return self.time < other.time"
   ]
  },
  {
   "cell_type": "code",
   "execution_count": 11,
   "id": "5fce3c8b",
   "metadata": {},
   "outputs": [],
   "source": [
    "class Simulator:\n",
    "    def __init__(self, num_taxis):\n",
    "        self._time_points = queue.PriorityQueue()\n",
    "        taxi_id_generator = taxi_id_number(num_taxis)\n",
    "        shift_info_generator = shift_info()\n",
    "        self._taxis = [taxi_process(taxi_id_generator, shift_info_generator) for i in range(num_taxis)]\n",
    "        self._prepare_run()\n",
    "        \n",
    "    def _prepare_run(self):\n",
    "        for t in self._taxis:\n",
    "            while True:\n",
    "                try:\n",
    "                    e = next(t)\n",
    "                    self._time_points.put(e)\n",
    "                except:\n",
    "                    break\n",
    "                \n",
    "    def run(self):\n",
    "        sim_time = 0\n",
    "        while sim_time < 24:\n",
    "            if self._time_points.empty():\n",
    "                break\n",
    "            p = self._time_points.get()\n",
    "            sim_time = p.time\n",
    "            print(p)"
   ]
  },
  {
   "cell_type": "markdown",
   "id": "02dbc9f8",
   "metadata": {},
   "source": [
    "First, we create the number of taxi generators we need to represent the correct number of vehicles. We then go through these taxis while they still have *TimePoints* and place all of these *TimePoints* in a priority queue. Object priority is determined for a custom class, such as *TimePoint*, because of our **__lt__** implementation of *TimePoints*, where we compare the start time. So, as *TimePoints* are pushed into the priority queue, this prepares them to be generated in temporal order."
   ]
  },
  {
   "cell_type": "code",
   "execution_count": 14,
   "id": "7975226d",
   "metadata": {},
   "outputs": [],
   "source": [
    "# running the simulation\n",
    "sim = Simulator(1000)\n",
    "sim.run()"
   ]
  },
  {
   "cell_type": "markdown",
   "id": "d5dbefe9",
   "metadata": {},
   "source": [
    "<div class=\"alert alert-block alert-info\">\n",
    "<b>Note:</b> When writing code that is generating random numbers, we may need to ensure that it is reproducible (for example, if we want to define unit tests for code that is normally random, or if we are trying to do debugging and want to restrict the sources of variation to make it easier debugging). To ensure that the random numbers come out in the same non-random order, we can define a *seed*.\n",
    "</div>"
   ]
  },
  {
   "cell_type": "markdown",
   "id": "0f8407a7",
   "metadata": {},
   "source": [
    "We made the decision to report taxi *TimePoints* as they happen. That is, we report the start of the race (\"boarding\") without its end time, although we could have easily condensed this. This is a way to make the **time series** more realistic, in the sense that we would probably have recorded events like this in a data stream."
   ]
  },
  {
   "cell_type": "markdown",
   "id": "429efb69",
   "metadata": {},
   "source": [
    "Note that our **time series** simulation has not yet been generated. We only generate a log and we can transform them into a **time series** in several ways:\n",
    "- output to a CSV file or database;\n",
    "- run some kind of online model connected to our simulation to learn how to develop a real-time streaming data processing pipeline;\n",
    "- save the output to a Database and then do further post-processing to package the data in a convenient way, such as pairing the start and end times of a given trip in order to study how the length of a taxi ride differs. behaves at different times of the day;"
   ]
  },
  {
   "cell_type": "code",
   "execution_count": null,
   "id": "a1cc533d",
   "metadata": {},
   "outputs": [],
   "source": []
  }
 ],
 "metadata": {
  "kernelspec": {
   "display_name": "Python 3 (ipykernel)",
   "language": "python",
   "name": "python3"
  },
  "language_info": {
   "codemirror_mode": {
    "name": "ipython",
    "version": 3
   },
   "file_extension": ".py",
   "mimetype": "text/x-python",
   "name": "python",
   "nbconvert_exporter": "python",
   "pygments_lexer": "ipython3",
   "version": "3.9.13"
  }
 },
 "nbformat": 4,
 "nbformat_minor": 5
}
