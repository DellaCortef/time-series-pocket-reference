{
 "cells": [
  {
   "cell_type": "markdown",
   "id": "31dc86f8",
   "metadata": {},
   "source": [
    "# References\n",
    "\n",
    "---> datasets:\n",
    "- https://github.com/PracticalTimeSeriesAnalysis/BookRepo/blob/master/Ch02/data/emails.csv\n",
    "- https://github.com/PracticalTimeSeriesAnalysis/BookRepo/blob/master/Ch02/data/UNRATE.csv\n",
    "- https://github.com/PracticalTimeSeriesAnalysis/BookRepo/blob/master/Ch02/data/donations.csv\n",
    "- https://github.com/PracticalTimeSeriesAnalysis/BookRepo/blob/master/Ch02/data/year_joined.csv\n",
    "- https://github.com/PracticalTimeSeriesAnalysis/BookRepo/blob/master/Ch02/data/AirPassengers.csv\n",
    "\n",
    "---> pandas documentation:\n",
    "- https://perma.cc/7R9B-2YPS\n",
    "- https://pandas.pydata.org/docs/index.html"
   ]
  },
  {
   "cell_type": "code",
   "execution_count": null,
   "id": "7e13f8fc",
   "metadata": {},
   "outputs": [],
   "source": []
  }
 ],
 "metadata": {
  "kernelspec": {
   "display_name": "Python 3 (ipykernel)",
   "language": "python",
   "name": "python3"
  },
  "language_info": {
   "codemirror_mode": {
    "name": "ipython",
    "version": 3
   },
   "file_extension": ".py",
   "mimetype": "text/x-python",
   "name": "python",
   "nbconvert_exporter": "python",
   "pygments_lexer": "ipython3",
   "version": "3.9.13"
  }
 },
 "nbformat": 4,
 "nbformat_minor": 5
}
