{
 "cells": [
  {
   "cell_type": "markdown",
   "id": "3c7ad791",
   "metadata": {},
   "source": [
    "### UCI Machine Learning Repository\n",
    "https://perma.cc/M3XC-M9HU\n",
    "<br>\n",
    "\n",
    "---> Work Absenteeism Dataset:<br>\n",
    "    - https://perma.cc/8E7D-ESGM\n",
    "\n",
    "\n",
    "---> Australian Sign Language Dataset:<br>\n",
    "    - https://perma.cc/TC5E-Z6H4\n",
    "<br><br>\n",
    "\n",
    "### UEA and UCR Time Series Classification Repository\n",
    "https://perma.cc/56Q5-YPNT\n",
    "<br>\n",
    "\n",
    "---> Yoga movement classification task:<br>\n",
    "    - https://perma.cc/U6MU-2SCZ\n",
    "    \n",
    "    \n",
    "---> Wine Classification Dataset by Region:<br>\n",
    "    - https://perma.cc/CJ7A-SXFD\n",
    "<br><br>\n",
    "\n",
    "### Government Time Series Dataset\n",
    "https://perma.cc/EA5R-TP5L\n",
    "<br>\n",
    "    - NOOAA's publishes a range of time series data related to temperatures and precipitation every fifteen minutes;\n",
    "    \n",
    "\n",
    "https://www.bls.gov/\n",
    "<br>\n",
    "    - US Bureau of Labor Statistics releases a monthly index of the US unemployment rate.\n",
    "    \n",
    "    \n",
    "https://perma.cc/Y6KG-T948\n",
    "<br>\n",
    "    - The US Centers for Disease Control and Prevention publishes flu [Influenza] cases weekly;\n",
    "    \n",
    "    \n",
    "https://fred.stlouisfed.org/\n",
    "<br>\n",
    "    - The Federal Reserve Bank of St. Louis makes available an abundant and useful set of economic time series data;"
   ]
  },
  {
   "cell_type": "code",
   "execution_count": null,
   "id": "1a75e435",
   "metadata": {},
   "outputs": [],
   "source": []
  }
 ],
 "metadata": {
  "kernelspec": {
   "display_name": "Python 3 (ipykernel)",
   "language": "python",
   "name": "python3"
  },
  "language_info": {
   "codemirror_mode": {
    "name": "ipython",
    "version": 3
   },
   "file_extension": ".py",
   "mimetype": "text/x-python",
   "name": "python",
   "nbconvert_exporter": "python",
   "pygments_lexer": "ipython3",
   "version": "3.9.13"
  }
 },
 "nbformat": 4,
 "nbformat_minor": 5
}
