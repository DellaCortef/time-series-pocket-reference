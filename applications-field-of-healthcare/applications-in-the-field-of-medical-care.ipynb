{
 "cells": [
  {
   "cell_type": "markdown",
   "id": "ab545409",
   "metadata": {},
   "source": [
    "Now, we will examine **time series** analysis in the context of healthcare, starting from two case studies: influenza prediction and nowcasting and blood glycemic index prediction. Both uses are important for detecting common health problems. Furthermore, in both cases, these are not solved problems, but rather topics of ongoing research in academia and healthcare.\n",
    "    \n",
    "## Predicting the Flu\n",
    "\n",
    "Predicting the weekly flu rate in a given geographic area is a long-standing and ongoing problem. Infectious disease experts and global security professionals agree that infectious diseases pose a significant risk to human well-being. This is the case with influenza, which affects vulnerable people around the world, causing hundreds of deaths every year, especially among the very young and very old. It is crucial, from both a health care and national security perspective, to develop accurate models of how the flu will develop in a given season. Flu prediction models help predict the virus specifically and also help researchers explore general theories about how infectious diseases travel geographically.\n",
    "\n",
    "### Caso de Estudo sobre a Gripe em uma área Metropolitana\n",
    "\n",
    "Veremos um conjunto de dados de relatórios semanais sobre a gripe em uma variedade de regioes administrativas na França, correspondentes aos anos de 2004 a 2013. Vamos predizer o indice da gripe em Île-de-France, regiao metropolitana de Paris. Você pode fazer o download dos dados no Kaggle (https://perma.cc/W9VQ-UUJC).\n",
    "\n",
    "#### Exploração "
   ]
  }
 ],
 "metadata": {
  "kernelspec": {
   "display_name": "Python 3 (ipykernel)",
   "language": "python",
   "name": "python3"
  },
  "language_info": {
   "codemirror_mode": {
    "name": "ipython",
    "version": 3
   },
   "file_extension": ".py",
   "mimetype": "text/x-python",
   "name": "python",
   "nbconvert_exporter": "python",
   "pygments_lexer": "ipython3",
   "version": "3.9.13"
  }
 },
 "nbformat": 4,
 "nbformat_minor": 5
}
