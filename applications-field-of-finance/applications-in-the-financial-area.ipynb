{
 "cells": [
  {
   "cell_type": "markdown",
   "id": "1b080d1a",
   "metadata": {},
   "source": [
    "# Applications in the Financial Area\n",
    "\n",
    "O mercado financeiro é o avô de todos os dados de **séries temporais**. Caso você pague por dados proprietários de trading relacionados ao câmbio de ações de alta tecnologia, poderá receber avalanches de dados do tamanho de terabytes que podem levar dias para serem processadas, mesmo que tenha em mãos um desempenho computacional altíssimo e acesso ao processamento embarrassingly parallel.\n",
    "\n",
    "De um lado, temos a tecnologia de negociação de alta frequência (HFT), que já está entre os membros mais novos e famigerados da comunidade financeira e negocia com base em informações e insights resultantes da análise de **séries temporais** no nível de microssegundos. E do outro lado, temos as empresas tradicionais de trading - que analisam as **séries temporais** de longo prazo durante horas, dias ou até meses -, que continuam a ter sucesso nos mercados, mostrando que a análise de **séries temporais** para dados financeiros pode ser realizada em uma míriade de formas bem-sucedidas e em escalas de tempo que abrangem muitas ordens de magnitude, de milissegundos a meses.\n",
    "\n"
   ]
  }
 ],
 "metadata": {
  "kernelspec": {
   "display_name": "Python 3 (ipykernel)",
   "language": "python",
   "name": "python3"
  },
  "language_info": {
   "codemirror_mode": {
    "name": "ipython",
    "version": 3
   },
   "file_extension": ".py",
   "mimetype": "text/x-python",
   "name": "python",
   "nbconvert_exporter": "python",
   "pygments_lexer": "ipython3",
   "version": "3.9.13"
  }
 },
 "nbformat": 4,
 "nbformat_minor": 5
}
