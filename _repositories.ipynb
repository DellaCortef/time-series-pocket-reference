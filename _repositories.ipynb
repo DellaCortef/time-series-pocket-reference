{
 "cells": [
  {
   "cell_type": "markdown",
   "id": "fbe1e333",
   "metadata": {},
   "source": [
    "### UCI Machine Learning Repository\n",
    "    - https://perma.cc/M3XC-M9HU\n",
    "\n",
    "---> Work Absenteeism Dataset:\n",
    "    - https://perma.cc/8E7D-ESGM\n",
    "\n",
    "---> Australian Sign Language Dataset:\n",
    "    - https://perma.cc/TC5E-Z6H4"
   ]
  },
  {
   "cell_type": "code",
   "execution_count": null,
   "id": "4adcff47",
   "metadata": {},
   "outputs": [],
   "source": []
  }
 ],
 "metadata": {
  "kernelspec": {
   "display_name": "Python 3 (ipykernel)",
   "language": "python",
   "name": "python3"
  },
  "language_info": {
   "codemirror_mode": {
    "name": "ipython",
    "version": 3
   },
   "file_extension": ".py",
   "mimetype": "text/x-python",
   "name": "python",
   "nbconvert_exporter": "python",
   "pygments_lexer": "ipython3",
   "version": "3.9.13"
  }
 },
 "nbformat": 4,
 "nbformat_minor": 5
}
